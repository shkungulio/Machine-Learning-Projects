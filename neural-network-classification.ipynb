{
 "cells": [
  {
   "cell_type": "markdown",
   "id": "07e5c549",
   "metadata": {
    "papermill": {
     "duration": 0.010424,
     "end_time": "2025-01-01T05:31:31.259630",
     "exception": false,
     "start_time": "2025-01-01T05:31:31.249206",
     "status": "completed"
    },
    "tags": []
   },
   "source": [
    "# **Neural Networks Classification**"
   ]
  },
  {
   "cell_type": "markdown",
   "id": "c0323f31",
   "metadata": {
    "papermill": {
     "duration": 0.009057,
     "end_time": "2025-01-01T05:31:31.277493",
     "exception": false,
     "start_time": "2025-01-01T05:31:31.268436",
     "status": "completed"
    },
    "tags": []
   },
   "source": [
    "## **Business Understanding**\n",
    "\n",
    "\n",
    "### **Problem Statement**\n",
    "In this case study, the main goal is to predict whether a stock will pay a dividend. Dividends represent a portion of a company's earnings distributed to shareholders, which serve as an indicator of financial stability and management confidence. This prediction helps investors assess potential returns and evaluate the company’s financial health.\n",
    "\n",
    "### **Main Objective**\n",
    "The objective is to leverage neural network models to predict dividend payments of stocks effectively. The focus is on using advanced machine learning techniques to capture complex relationships in the financial data, which can help investors, analysts, and financial institutions make informed decisions regarding investment portfolios. By analyzing historical data on company earnings, financial metrics, market conditions, and industry trends, the model aims to provide accurate forecasts of future dividend payments, thereby enhancing strategic investment planning and portfolio management."
   ]
  },
  {
   "cell_type": "markdown",
   "id": "94a4b0cc",
   "metadata": {
    "papermill": {
     "duration": 0.00867,
     "end_time": "2025-01-01T05:31:31.294868",
     "exception": false,
     "start_time": "2025-01-01T05:31:31.286198",
     "status": "completed"
    },
    "tags": []
   },
   "source": [
    "## **Data Understanding**\n",
    "\n",
    "### Review the Dataset\n",
    "The dataset contains six(6) variables on 200 stocks. Each row represents information on a different stock. The first column \"dividend\" is the outcome variable in data mining. The data indicated if a stock had a dividend (Yes = 1; No = 0).\n",
    "\n",
    "### Data Dictionary\n",
    "\n",
    "| Attribute            | Definition                                              |  Data Type        | Constraints/ Rules |\n",
    "|:---------------------|:--------------------------------------------------------|:------------------|:-------------------|\n",
    "| **dividend** | A portion of a company's earnings is ditributed to shareholders as a return on their investment | Integer | It must be a non-negative integer. |\n",
    "| **fcfps** | Free Cash Flow Per Share (fcfps) - A measure of a company's ability to generate cash after accounting for capital expenditures, calculated by dividing free cash flow by the number of outstanding shares. | Numeric | It must be numeric. |\n",
    "| **earning_growth** | The percentage increase or decrease in a company's earnings over a specific period indicates financial performance and future profitability. | Numeric | It must be numeric. |\n",
    "| **de** | Debt-to-Equity Ratio (DE) - A financial metric that compares a company's total debt to its shareholders' equity, indicating the proportion of debt used to finance its operations relative to equity. | Numeric | It must be numeric. |\n",
    "| **mcap** | Market Capitalization (MCAP) - The total value of a company's outstanding shares, calculated by multiplying the current share price by the total number of shares outstanding. | Integer | It must be a non-negative integer. |\n",
    "| **current_ratio** | A liquidity ratio that measures a company's ability to pay its short-term liabilities with its short-term assets, calculated by dividing current assets by current liabilities. | Numeric | It must be numeric. |"
   ]
  },
  {
   "cell_type": "markdown",
   "id": "2fec0049",
   "metadata": {
    "papermill": {
     "duration": 0.008512,
     "end_time": "2025-01-01T05:31:31.312449",
     "exception": false,
     "start_time": "2025-01-01T05:31:31.303937",
     "status": "completed"
    },
    "tags": []
   },
   "source": [
    "## **Data Preparation**"
   ]
  },
  {
   "cell_type": "code",
   "execution_count": 1,
   "id": "8af61e11",
   "metadata": {
    "execution": {
     "iopub.execute_input": "2025-01-01T05:31:31.335199Z",
     "iopub.status.busy": "2025-01-01T05:31:31.332679Z",
     "iopub.status.idle": "2025-01-01T05:31:32.182673Z",
     "shell.execute_reply": "2025-01-01T05:31:32.180715Z"
    },
    "papermill": {
     "duration": 0.863816,
     "end_time": "2025-01-01T05:31:32.185332",
     "exception": false,
     "start_time": "2025-01-01T05:31:31.321516",
     "status": "completed"
    },
    "tags": []
   },
   "outputs": [
    {
     "name": "stderr",
     "output_type": "stream",
     "text": [
      "Type 'citation(\"pROC\")' for a citation.\n",
      "\n"
     ]
    },
    {
     "name": "stderr",
     "output_type": "stream",
     "text": [
      "\n",
      "Attaching package: ‘pROC’\n",
      "\n",
      "\n"
     ]
    },
    {
     "name": "stderr",
     "output_type": "stream",
     "text": [
      "The following objects are masked from ‘package:stats’:\n",
      "\n",
      "    cov, smooth, var\n",
      "\n",
      "\n"
     ]
    }
   ],
   "source": [
    "# Load necessary libraries\n",
    "if (!requireNamespace(\"neuralnet\", quietly = TRUE)) {\n",
    "  install.packages(\"neuralnet\")\n",
    "}\n",
    "if (!requireNamespace(\"pROC\", quietly = TRUE)) {\n",
    "  install.packages(\"pROC\")\n",
    "}\n",
    "if (!requireNamespace(\"ggplot2\", quietly = TRUE)) {\n",
    "  install.packages(\"ggplot2\")\n",
    "}\n",
    "library(neuralnet)\n",
    "library(pROC)\n",
    "library(ggplot2)"
   ]
  },
  {
   "cell_type": "code",
   "execution_count": 2,
   "id": "a1bf6589",
   "metadata": {
    "execution": {
     "iopub.execute_input": "2025-01-01T05:31:32.238289Z",
     "iopub.status.busy": "2025-01-01T05:31:32.205500Z",
     "iopub.status.idle": "2025-01-01T05:31:32.267670Z",
     "shell.execute_reply": "2025-01-01T05:31:32.264952Z"
    },
    "papermill": {
     "duration": 0.076754,
     "end_time": "2025-01-01T05:31:32.271138",
     "exception": false,
     "start_time": "2025-01-01T05:31:32.194384",
     "status": "completed"
    },
    "tags": []
   },
   "outputs": [],
   "source": [
    "# Load the dataset\n",
    "dividend.df <- read.csv(\"../input/case-studies/dividend_info.csv\")"
   ]
  },
  {
   "cell_type": "code",
   "execution_count": 3,
   "id": "108acec6",
   "metadata": {
    "execution": {
     "iopub.execute_input": "2025-01-01T05:31:32.294325Z",
     "iopub.status.busy": "2025-01-01T05:31:32.291744Z",
     "iopub.status.idle": "2025-01-01T05:31:32.316430Z",
     "shell.execute_reply": "2025-01-01T05:31:32.314304Z"
    },
    "papermill": {
     "duration": 0.039179,
     "end_time": "2025-01-01T05:31:32.319577",
     "exception": false,
     "start_time": "2025-01-01T05:31:32.280398",
     "status": "completed"
    },
    "tags": []
   },
   "outputs": [
    {
     "data": {
      "text/html": [
       "<style>\n",
       ".list-inline {list-style: none; margin:0; padding: 0}\n",
       ".list-inline>li {display: inline-block}\n",
       ".list-inline>li:not(:last-child)::after {content: \"\\00b7\"; padding: 0 .5ex}\n",
       "</style>\n",
       "<ol class=list-inline><li>200</li><li>6</li></ol>\n"
      ],
      "text/latex": [
       "\\begin{enumerate*}\n",
       "\\item 200\n",
       "\\item 6\n",
       "\\end{enumerate*}\n"
      ],
      "text/markdown": [
       "1. 200\n",
       "2. 6\n",
       "\n",
       "\n"
      ],
      "text/plain": [
       "[1] 200   6"
      ]
     },
     "metadata": {},
     "output_type": "display_data"
    }
   ],
   "source": [
    "# Check the dimensions of the data frame\n",
    "dim(dividend.df)"
   ]
  },
  {
   "cell_type": "code",
   "execution_count": 4,
   "id": "3585e2e2",
   "metadata": {
    "execution": {
     "iopub.execute_input": "2025-01-01T05:31:32.343187Z",
     "iopub.status.busy": "2025-01-01T05:31:32.340181Z",
     "iopub.status.idle": "2025-01-01T05:31:32.385910Z",
     "shell.execute_reply": "2025-01-01T05:31:32.383204Z"
    },
    "papermill": {
     "duration": 0.061544,
     "end_time": "2025-01-01T05:31:32.390072",
     "exception": false,
     "start_time": "2025-01-01T05:31:32.328528",
     "status": "completed"
    },
    "tags": []
   },
   "outputs": [
    {
     "data": {
      "text/html": [
       "<table class=\"dataframe\">\n",
       "<caption>A data.frame: 6 × 6</caption>\n",
       "<thead>\n",
       "\t<tr><th></th><th scope=col>dividend</th><th scope=col>fcfps</th><th scope=col>earnings_growth</th><th scope=col>de</th><th scope=col>mcap</th><th scope=col>current_ratio</th></tr>\n",
       "\t<tr><th></th><th scope=col>&lt;int&gt;</th><th scope=col>&lt;dbl&gt;</th><th scope=col>&lt;dbl&gt;</th><th scope=col>&lt;dbl&gt;</th><th scope=col>&lt;int&gt;</th><th scope=col>&lt;dbl&gt;</th></tr>\n",
       "</thead>\n",
       "<tbody>\n",
       "\t<tr><th scope=row>1</th><td>0</td><td>2.75</td><td>-19.25</td><td>1.11</td><td>545</td><td>0.9240557</td></tr>\n",
       "\t<tr><th scope=row>2</th><td>1</td><td>4.96</td><td>  0.83</td><td>1.09</td><td>630</td><td>1.4685722</td></tr>\n",
       "\t<tr><th scope=row>3</th><td>1</td><td>2.78</td><td>  1.09</td><td>0.19</td><td>562</td><td>1.9758751</td></tr>\n",
       "\t<tr><th scope=row>4</th><td>0</td><td>0.43</td><td> 12.97</td><td>1.70</td><td>388</td><td>1.9419977</td></tr>\n",
       "\t<tr><th scope=row>5</th><td>1</td><td>2.94</td><td>  2.44</td><td>1.83</td><td>684</td><td>2.4874670</td></tr>\n",
       "\t<tr><th scope=row>6</th><td>1</td><td>3.90</td><td> -6.29</td><td>0.46</td><td>621</td><td>1.7832525</td></tr>\n",
       "</tbody>\n",
       "</table>\n"
      ],
      "text/latex": [
       "A data.frame: 6 × 6\n",
       "\\begin{tabular}{r|llllll}\n",
       "  & dividend & fcfps & earnings\\_growth & de & mcap & current\\_ratio\\\\\n",
       "  & <int> & <dbl> & <dbl> & <dbl> & <int> & <dbl>\\\\\n",
       "\\hline\n",
       "\t1 & 0 & 2.75 & -19.25 & 1.11 & 545 & 0.9240557\\\\\n",
       "\t2 & 1 & 4.96 &   0.83 & 1.09 & 630 & 1.4685722\\\\\n",
       "\t3 & 1 & 2.78 &   1.09 & 0.19 & 562 & 1.9758751\\\\\n",
       "\t4 & 0 & 0.43 &  12.97 & 1.70 & 388 & 1.9419977\\\\\n",
       "\t5 & 1 & 2.94 &   2.44 & 1.83 & 684 & 2.4874670\\\\\n",
       "\t6 & 1 & 3.90 &  -6.29 & 0.46 & 621 & 1.7832525\\\\\n",
       "\\end{tabular}\n"
      ],
      "text/markdown": [
       "\n",
       "A data.frame: 6 × 6\n",
       "\n",
       "| <!--/--> | dividend &lt;int&gt; | fcfps &lt;dbl&gt; | earnings_growth &lt;dbl&gt; | de &lt;dbl&gt; | mcap &lt;int&gt; | current_ratio &lt;dbl&gt; |\n",
       "|---|---|---|---|---|---|---|\n",
       "| 1 | 0 | 2.75 | -19.25 | 1.11 | 545 | 0.9240557 |\n",
       "| 2 | 1 | 4.96 |   0.83 | 1.09 | 630 | 1.4685722 |\n",
       "| 3 | 1 | 2.78 |   1.09 | 0.19 | 562 | 1.9758751 |\n",
       "| 4 | 0 | 0.43 |  12.97 | 1.70 | 388 | 1.9419977 |\n",
       "| 5 | 1 | 2.94 |   2.44 | 1.83 | 684 | 2.4874670 |\n",
       "| 6 | 1 | 3.90 |  -6.29 | 0.46 | 621 | 1.7832525 |\n",
       "\n"
      ],
      "text/plain": [
       "  dividend fcfps earnings_growth de   mcap current_ratio\n",
       "1 0        2.75  -19.25          1.11 545  0.9240557    \n",
       "2 1        4.96    0.83          1.09 630  1.4685722    \n",
       "3 1        2.78    1.09          0.19 562  1.9758751    \n",
       "4 0        0.43   12.97          1.70 388  1.9419977    \n",
       "5 1        2.94    2.44          1.83 684  2.4874670    \n",
       "6 1        3.90   -6.29          0.46 621  1.7832525    "
      ]
     },
     "metadata": {},
     "output_type": "display_data"
    }
   ],
   "source": [
    "# Show the first six rows to check the data\n",
    "head(dividend.df)"
   ]
  },
  {
   "cell_type": "code",
   "execution_count": 5,
   "id": "cd803070",
   "metadata": {
    "execution": {
     "iopub.execute_input": "2025-01-01T05:31:32.413947Z",
     "iopub.status.busy": "2025-01-01T05:31:32.411329Z",
     "iopub.status.idle": "2025-01-01T05:31:32.524602Z",
     "shell.execute_reply": "2025-01-01T05:31:32.522793Z"
    },
    "papermill": {
     "duration": 0.127751,
     "end_time": "2025-01-01T05:31:32.527083",
     "exception": false,
     "start_time": "2025-01-01T05:31:32.399332",
     "status": "completed"
    },
    "tags": []
   },
   "outputs": [
    {
     "data": {
      "text/html": [
       "<table class=\"dataframe\">\n",
       "<caption>A data.frame: 200 × 6</caption>\n",
       "<thead>\n",
       "\t<tr><th scope=col>dividend</th><th scope=col>fcfps</th><th scope=col>earnings_growth</th><th scope=col>de</th><th scope=col>mcap</th><th scope=col>current_ratio</th></tr>\n",
       "\t<tr><th scope=col>&lt;int&gt;</th><th scope=col>&lt;dbl&gt;</th><th scope=col>&lt;dbl&gt;</th><th scope=col>&lt;dbl&gt;</th><th scope=col>&lt;int&gt;</th><th scope=col>&lt;dbl&gt;</th></tr>\n",
       "</thead>\n",
       "<tbody>\n",
       "\t<tr><td>0</td><td>2.75</td><td>-19.25</td><td>1.11</td><td>545</td><td>0.924055665</td></tr>\n",
       "\t<tr><td>1</td><td>4.96</td><td>  0.83</td><td>1.09</td><td>630</td><td>1.468572230</td></tr>\n",
       "\t<tr><td>1</td><td>2.78</td><td>  1.09</td><td>0.19</td><td>562</td><td>1.975875106</td></tr>\n",
       "\t<tr><td>0</td><td>0.43</td><td> 12.97</td><td>1.70</td><td>388</td><td>1.941997716</td></tr>\n",
       "\t<tr><td>1</td><td>2.94</td><td>  2.44</td><td>1.83</td><td>684</td><td>2.487466999</td></tr>\n",
       "\t<tr><td>1</td><td>3.90</td><td> -6.29</td><td>0.46</td><td>621</td><td>1.783252522</td></tr>\n",
       "\t<tr><td>1</td><td>1.09</td><td> -5.65</td><td>2.32</td><td>656</td><td>1.189733084</td></tr>\n",
       "\t<tr><td>0</td><td>2.32</td><td> 15.00</td><td>3.34</td><td>351</td><td>1.729519398</td></tr>\n",
       "\t<tr><td>1</td><td>2.50</td><td> 11.86</td><td>3.15</td><td>658</td><td>1.926789466</td></tr>\n",
       "\t<tr><td>1</td><td>4.46</td><td> 23.48</td><td>3.33</td><td>330</td><td>2.813534511</td></tr>\n",
       "\t<tr><td>0</td><td>2.75</td><td> 20.24</td><td>3.61</td><td>127</td><td>0.130219035</td></tr>\n",
       "\t<tr><td>0</td><td>1.52</td><td> 19.08</td><td>2.53</td><td>318</td><td>1.662392098</td></tr>\n",
       "\t<tr><td>0</td><td>1.42</td><td> 21.39</td><td>3.22</td><td>155</td><td>0.567528706</td></tr>\n",
       "\t<tr><td>0</td><td>1.06</td><td> 24.47</td><td>1.84</td><td>153</td><td>1.845205694</td></tr>\n",
       "\t<tr><td>1</td><td>3.16</td><td> 24.35</td><td>2.82</td><td>411</td><td>1.413293089</td></tr>\n",
       "\t<tr><td>1</td><td>2.68</td><td> 22.39</td><td>3.57</td><td>517</td><td>2.104904500</td></tr>\n",
       "\t<tr><td>1</td><td>1.98</td><td> 22.62</td><td>2.38</td><td>750</td><td>1.815470300</td></tr>\n",
       "\t<tr><td>0</td><td>1.83</td><td> 28.75</td><td>1.42</td><td>292</td><td>1.759152486</td></tr>\n",
       "\t<tr><td>1</td><td>4.37</td><td> 33.99</td><td>2.10</td><td>322</td><td>1.834702324</td></tr>\n",
       "\t<tr><td>0</td><td>2.51</td><td> -3.95</td><td>2.09</td><td>342</td><td>1.430460184</td></tr>\n",
       "\t<tr><td>1</td><td>2.52</td><td> -0.79</td><td>1.69</td><td>793</td><td>1.388667561</td></tr>\n",
       "\t<tr><td>0</td><td>0.47</td><td> 21.27</td><td>1.85</td><td>143</td><td>0.003717016</td></tr>\n",
       "\t<tr><td>1</td><td>1.89</td><td> 25.09</td><td>1.65</td><td>329</td><td>1.520532269</td></tr>\n",
       "\t<tr><td>1</td><td>4.40</td><td> 35.77</td><td>0.07</td><td>640</td><td>2.444476399</td></tr>\n",
       "\t<tr><td>0</td><td>0.57</td><td> 18.97</td><td>2.68</td><td>169</td><td>1.142599450</td></tr>\n",
       "\t<tr><td>0</td><td>2.08</td><td>-14.71</td><td>2.54</td><td>597</td><td>1.103926865</td></tr>\n",
       "\t<tr><td>1</td><td>2.18</td><td> 22.51</td><td>0.80</td><td>316</td><td>1.825987229</td></tr>\n",
       "\t<tr><td>1</td><td>3.93</td><td>  5.88</td><td>1.92</td><td>678</td><td>1.906962138</td></tr>\n",
       "\t<tr><td>1</td><td>1.80</td><td> 24.79</td><td>2.43</td><td>472</td><td>1.579496586</td></tr>\n",
       "\t<tr><td>1</td><td>4.59</td><td> 21.47</td><td>0.06</td><td>441</td><td>1.610337963</td></tr>\n",
       "\t<tr><td>⋮</td><td>⋮</td><td>⋮</td><td>⋮</td><td>⋮</td><td>⋮</td></tr>\n",
       "\t<tr><td>0</td><td>1.84</td><td>  6.25</td><td>2.99</td><td>258</td><td>0.5849823</td></tr>\n",
       "\t<tr><td>1</td><td>1.47</td><td>  3.52</td><td>1.78</td><td>574</td><td>2.4422286</td></tr>\n",
       "\t<tr><td>1</td><td>4.16</td><td> 22.51</td><td>1.38</td><td>436</td><td>1.7166017</td></tr>\n",
       "\t<tr><td>0</td><td>1.90</td><td> 10.35</td><td>1.90</td><td>380</td><td>0.8349719</td></tr>\n",
       "\t<tr><td>0</td><td>2.04</td><td>-13.43</td><td>3.47</td><td>252</td><td>1.5887283</td></tr>\n",
       "\t<tr><td>0</td><td>0.81</td><td>  6.01</td><td>3.03</td><td>206</td><td>1.5442769</td></tr>\n",
       "\t<tr><td>1</td><td>1.08</td><td> 35.25</td><td>3.97</td><td>500</td><td>1.3019643</td></tr>\n",
       "\t<tr><td>1</td><td>1.97</td><td> 19.23</td><td>2.77</td><td>748</td><td>2.9054618</td></tr>\n",
       "\t<tr><td>1</td><td>1.16</td><td> -6.60</td><td>2.83</td><td>583</td><td>2.1995014</td></tr>\n",
       "\t<tr><td>0</td><td>2.50</td><td> -1.42</td><td>1.47</td><td>294</td><td>0.8508191</td></tr>\n",
       "\t<tr><td>1</td><td>4.27</td><td> 38.82</td><td>2.82</td><td>390</td><td>2.8412309</td></tr>\n",
       "\t<tr><td>1</td><td>3.07</td><td>  4.44</td><td>2.93</td><td>545</td><td>2.7514337</td></tr>\n",
       "\t<tr><td>1</td><td>2.23</td><td> 11.75</td><td>1.03</td><td>421</td><td>2.5682289</td></tr>\n",
       "\t<tr><td>0</td><td>1.19</td><td>-14.08</td><td>3.19</td><td>355</td><td>1.7645013</td></tr>\n",
       "\t<tr><td>1</td><td>2.77</td><td> 30.15</td><td>2.25</td><td>518</td><td>1.9723217</td></tr>\n",
       "\t<tr><td>1</td><td>3.26</td><td> 40.10</td><td>1.42</td><td>431</td><td>1.5574189</td></tr>\n",
       "\t<tr><td>1</td><td>4.76</td><td>  7.72</td><td>2.48</td><td>444</td><td>1.0301976</td></tr>\n",
       "\t<tr><td>0</td><td>1.70</td><td>-13.57</td><td>2.93</td><td>172</td><td>1.9346996</td></tr>\n",
       "\t<tr><td>1</td><td>3.26</td><td> 22.26</td><td>3.71</td><td>395</td><td>1.4886245</td></tr>\n",
       "\t<tr><td>1</td><td>1.09</td><td> 33.23</td><td>0.83</td><td>599</td><td>1.0213556</td></tr>\n",
       "\t<tr><td>0</td><td>1.27</td><td>  5.70</td><td>1.75</td><td>279</td><td>0.1739332</td></tr>\n",
       "\t<tr><td>0</td><td>2.50</td><td> 28.60</td><td>3.11</td><td>234</td><td>0.5404987</td></tr>\n",
       "\t<tr><td>1</td><td>4.40</td><td>  8.81</td><td>0.08</td><td>310</td><td>1.1792158</td></tr>\n",
       "\t<tr><td>1</td><td>1.06</td><td> -2.62</td><td>0.90</td><td>751</td><td>1.4379533</td></tr>\n",
       "\t<tr><td>0</td><td>1.54</td><td>  7.91</td><td>2.11</td><td>161</td><td>1.5705907</td></tr>\n",
       "\t<tr><td>1</td><td>1.16</td><td> 37.26</td><td>2.47</td><td>404</td><td>1.0774715</td></tr>\n",
       "\t<tr><td>1</td><td>3.77</td><td> 16.33</td><td>0.26</td><td>760</td><td>2.4838976</td></tr>\n",
       "\t<tr><td>0</td><td>1.30</td><td> 24.69</td><td>3.60</td><td>236</td><td>1.0455050</td></tr>\n",
       "\t<tr><td>0</td><td>1.60</td><td>-11.59</td><td>3.00</td><td>387</td><td>0.4376969</td></tr>\n",
       "\t<tr><td>1</td><td>2.22</td><td>  1.79</td><td>0.58</td><td>652</td><td>2.8516326</td></tr>\n",
       "</tbody>\n",
       "</table>\n"
      ],
      "text/latex": [
       "A data.frame: 200 × 6\n",
       "\\begin{tabular}{llllll}\n",
       " dividend & fcfps & earnings\\_growth & de & mcap & current\\_ratio\\\\\n",
       " <int> & <dbl> & <dbl> & <dbl> & <int> & <dbl>\\\\\n",
       "\\hline\n",
       "\t 0 & 2.75 & -19.25 & 1.11 & 545 & 0.924055665\\\\\n",
       "\t 1 & 4.96 &   0.83 & 1.09 & 630 & 1.468572230\\\\\n",
       "\t 1 & 2.78 &   1.09 & 0.19 & 562 & 1.975875106\\\\\n",
       "\t 0 & 0.43 &  12.97 & 1.70 & 388 & 1.941997716\\\\\n",
       "\t 1 & 2.94 &   2.44 & 1.83 & 684 & 2.487466999\\\\\n",
       "\t 1 & 3.90 &  -6.29 & 0.46 & 621 & 1.783252522\\\\\n",
       "\t 1 & 1.09 &  -5.65 & 2.32 & 656 & 1.189733084\\\\\n",
       "\t 0 & 2.32 &  15.00 & 3.34 & 351 & 1.729519398\\\\\n",
       "\t 1 & 2.50 &  11.86 & 3.15 & 658 & 1.926789466\\\\\n",
       "\t 1 & 4.46 &  23.48 & 3.33 & 330 & 2.813534511\\\\\n",
       "\t 0 & 2.75 &  20.24 & 3.61 & 127 & 0.130219035\\\\\n",
       "\t 0 & 1.52 &  19.08 & 2.53 & 318 & 1.662392098\\\\\n",
       "\t 0 & 1.42 &  21.39 & 3.22 & 155 & 0.567528706\\\\\n",
       "\t 0 & 1.06 &  24.47 & 1.84 & 153 & 1.845205694\\\\\n",
       "\t 1 & 3.16 &  24.35 & 2.82 & 411 & 1.413293089\\\\\n",
       "\t 1 & 2.68 &  22.39 & 3.57 & 517 & 2.104904500\\\\\n",
       "\t 1 & 1.98 &  22.62 & 2.38 & 750 & 1.815470300\\\\\n",
       "\t 0 & 1.83 &  28.75 & 1.42 & 292 & 1.759152486\\\\\n",
       "\t 1 & 4.37 &  33.99 & 2.10 & 322 & 1.834702324\\\\\n",
       "\t 0 & 2.51 &  -3.95 & 2.09 & 342 & 1.430460184\\\\\n",
       "\t 1 & 2.52 &  -0.79 & 1.69 & 793 & 1.388667561\\\\\n",
       "\t 0 & 0.47 &  21.27 & 1.85 & 143 & 0.003717016\\\\\n",
       "\t 1 & 1.89 &  25.09 & 1.65 & 329 & 1.520532269\\\\\n",
       "\t 1 & 4.40 &  35.77 & 0.07 & 640 & 2.444476399\\\\\n",
       "\t 0 & 0.57 &  18.97 & 2.68 & 169 & 1.142599450\\\\\n",
       "\t 0 & 2.08 & -14.71 & 2.54 & 597 & 1.103926865\\\\\n",
       "\t 1 & 2.18 &  22.51 & 0.80 & 316 & 1.825987229\\\\\n",
       "\t 1 & 3.93 &   5.88 & 1.92 & 678 & 1.906962138\\\\\n",
       "\t 1 & 1.80 &  24.79 & 2.43 & 472 & 1.579496586\\\\\n",
       "\t 1 & 4.59 &  21.47 & 0.06 & 441 & 1.610337963\\\\\n",
       "\t ⋮ & ⋮ & ⋮ & ⋮ & ⋮ & ⋮\\\\\n",
       "\t 0 & 1.84 &   6.25 & 2.99 & 258 & 0.5849823\\\\\n",
       "\t 1 & 1.47 &   3.52 & 1.78 & 574 & 2.4422286\\\\\n",
       "\t 1 & 4.16 &  22.51 & 1.38 & 436 & 1.7166017\\\\\n",
       "\t 0 & 1.90 &  10.35 & 1.90 & 380 & 0.8349719\\\\\n",
       "\t 0 & 2.04 & -13.43 & 3.47 & 252 & 1.5887283\\\\\n",
       "\t 0 & 0.81 &   6.01 & 3.03 & 206 & 1.5442769\\\\\n",
       "\t 1 & 1.08 &  35.25 & 3.97 & 500 & 1.3019643\\\\\n",
       "\t 1 & 1.97 &  19.23 & 2.77 & 748 & 2.9054618\\\\\n",
       "\t 1 & 1.16 &  -6.60 & 2.83 & 583 & 2.1995014\\\\\n",
       "\t 0 & 2.50 &  -1.42 & 1.47 & 294 & 0.8508191\\\\\n",
       "\t 1 & 4.27 &  38.82 & 2.82 & 390 & 2.8412309\\\\\n",
       "\t 1 & 3.07 &   4.44 & 2.93 & 545 & 2.7514337\\\\\n",
       "\t 1 & 2.23 &  11.75 & 1.03 & 421 & 2.5682289\\\\\n",
       "\t 0 & 1.19 & -14.08 & 3.19 & 355 & 1.7645013\\\\\n",
       "\t 1 & 2.77 &  30.15 & 2.25 & 518 & 1.9723217\\\\\n",
       "\t 1 & 3.26 &  40.10 & 1.42 & 431 & 1.5574189\\\\\n",
       "\t 1 & 4.76 &   7.72 & 2.48 & 444 & 1.0301976\\\\\n",
       "\t 0 & 1.70 & -13.57 & 2.93 & 172 & 1.9346996\\\\\n",
       "\t 1 & 3.26 &  22.26 & 3.71 & 395 & 1.4886245\\\\\n",
       "\t 1 & 1.09 &  33.23 & 0.83 & 599 & 1.0213556\\\\\n",
       "\t 0 & 1.27 &   5.70 & 1.75 & 279 & 0.1739332\\\\\n",
       "\t 0 & 2.50 &  28.60 & 3.11 & 234 & 0.5404987\\\\\n",
       "\t 1 & 4.40 &   8.81 & 0.08 & 310 & 1.1792158\\\\\n",
       "\t 1 & 1.06 &  -2.62 & 0.90 & 751 & 1.4379533\\\\\n",
       "\t 0 & 1.54 &   7.91 & 2.11 & 161 & 1.5705907\\\\\n",
       "\t 1 & 1.16 &  37.26 & 2.47 & 404 & 1.0774715\\\\\n",
       "\t 1 & 3.77 &  16.33 & 0.26 & 760 & 2.4838976\\\\\n",
       "\t 0 & 1.30 &  24.69 & 3.60 & 236 & 1.0455050\\\\\n",
       "\t 0 & 1.60 & -11.59 & 3.00 & 387 & 0.4376969\\\\\n",
       "\t 1 & 2.22 &   1.79 & 0.58 & 652 & 2.8516326\\\\\n",
       "\\end{tabular}\n"
      ],
      "text/markdown": [
       "\n",
       "A data.frame: 200 × 6\n",
       "\n",
       "| dividend &lt;int&gt; | fcfps &lt;dbl&gt; | earnings_growth &lt;dbl&gt; | de &lt;dbl&gt; | mcap &lt;int&gt; | current_ratio &lt;dbl&gt; |\n",
       "|---|---|---|---|---|---|\n",
       "| 0 | 2.75 | -19.25 | 1.11 | 545 | 0.924055665 |\n",
       "| 1 | 4.96 |   0.83 | 1.09 | 630 | 1.468572230 |\n",
       "| 1 | 2.78 |   1.09 | 0.19 | 562 | 1.975875106 |\n",
       "| 0 | 0.43 |  12.97 | 1.70 | 388 | 1.941997716 |\n",
       "| 1 | 2.94 |   2.44 | 1.83 | 684 | 2.487466999 |\n",
       "| 1 | 3.90 |  -6.29 | 0.46 | 621 | 1.783252522 |\n",
       "| 1 | 1.09 |  -5.65 | 2.32 | 656 | 1.189733084 |\n",
       "| 0 | 2.32 |  15.00 | 3.34 | 351 | 1.729519398 |\n",
       "| 1 | 2.50 |  11.86 | 3.15 | 658 | 1.926789466 |\n",
       "| 1 | 4.46 |  23.48 | 3.33 | 330 | 2.813534511 |\n",
       "| 0 | 2.75 |  20.24 | 3.61 | 127 | 0.130219035 |\n",
       "| 0 | 1.52 |  19.08 | 2.53 | 318 | 1.662392098 |\n",
       "| 0 | 1.42 |  21.39 | 3.22 | 155 | 0.567528706 |\n",
       "| 0 | 1.06 |  24.47 | 1.84 | 153 | 1.845205694 |\n",
       "| 1 | 3.16 |  24.35 | 2.82 | 411 | 1.413293089 |\n",
       "| 1 | 2.68 |  22.39 | 3.57 | 517 | 2.104904500 |\n",
       "| 1 | 1.98 |  22.62 | 2.38 | 750 | 1.815470300 |\n",
       "| 0 | 1.83 |  28.75 | 1.42 | 292 | 1.759152486 |\n",
       "| 1 | 4.37 |  33.99 | 2.10 | 322 | 1.834702324 |\n",
       "| 0 | 2.51 |  -3.95 | 2.09 | 342 | 1.430460184 |\n",
       "| 1 | 2.52 |  -0.79 | 1.69 | 793 | 1.388667561 |\n",
       "| 0 | 0.47 |  21.27 | 1.85 | 143 | 0.003717016 |\n",
       "| 1 | 1.89 |  25.09 | 1.65 | 329 | 1.520532269 |\n",
       "| 1 | 4.40 |  35.77 | 0.07 | 640 | 2.444476399 |\n",
       "| 0 | 0.57 |  18.97 | 2.68 | 169 | 1.142599450 |\n",
       "| 0 | 2.08 | -14.71 | 2.54 | 597 | 1.103926865 |\n",
       "| 1 | 2.18 |  22.51 | 0.80 | 316 | 1.825987229 |\n",
       "| 1 | 3.93 |   5.88 | 1.92 | 678 | 1.906962138 |\n",
       "| 1 | 1.80 |  24.79 | 2.43 | 472 | 1.579496586 |\n",
       "| 1 | 4.59 |  21.47 | 0.06 | 441 | 1.610337963 |\n",
       "| ⋮ | ⋮ | ⋮ | ⋮ | ⋮ | ⋮ |\n",
       "| 0 | 1.84 |   6.25 | 2.99 | 258 | 0.5849823 |\n",
       "| 1 | 1.47 |   3.52 | 1.78 | 574 | 2.4422286 |\n",
       "| 1 | 4.16 |  22.51 | 1.38 | 436 | 1.7166017 |\n",
       "| 0 | 1.90 |  10.35 | 1.90 | 380 | 0.8349719 |\n",
       "| 0 | 2.04 | -13.43 | 3.47 | 252 | 1.5887283 |\n",
       "| 0 | 0.81 |   6.01 | 3.03 | 206 | 1.5442769 |\n",
       "| 1 | 1.08 |  35.25 | 3.97 | 500 | 1.3019643 |\n",
       "| 1 | 1.97 |  19.23 | 2.77 | 748 | 2.9054618 |\n",
       "| 1 | 1.16 |  -6.60 | 2.83 | 583 | 2.1995014 |\n",
       "| 0 | 2.50 |  -1.42 | 1.47 | 294 | 0.8508191 |\n",
       "| 1 | 4.27 |  38.82 | 2.82 | 390 | 2.8412309 |\n",
       "| 1 | 3.07 |   4.44 | 2.93 | 545 | 2.7514337 |\n",
       "| 1 | 2.23 |  11.75 | 1.03 | 421 | 2.5682289 |\n",
       "| 0 | 1.19 | -14.08 | 3.19 | 355 | 1.7645013 |\n",
       "| 1 | 2.77 |  30.15 | 2.25 | 518 | 1.9723217 |\n",
       "| 1 | 3.26 |  40.10 | 1.42 | 431 | 1.5574189 |\n",
       "| 1 | 4.76 |   7.72 | 2.48 | 444 | 1.0301976 |\n",
       "| 0 | 1.70 | -13.57 | 2.93 | 172 | 1.9346996 |\n",
       "| 1 | 3.26 |  22.26 | 3.71 | 395 | 1.4886245 |\n",
       "| 1 | 1.09 |  33.23 | 0.83 | 599 | 1.0213556 |\n",
       "| 0 | 1.27 |   5.70 | 1.75 | 279 | 0.1739332 |\n",
       "| 0 | 2.50 |  28.60 | 3.11 | 234 | 0.5404987 |\n",
       "| 1 | 4.40 |   8.81 | 0.08 | 310 | 1.1792158 |\n",
       "| 1 | 1.06 |  -2.62 | 0.90 | 751 | 1.4379533 |\n",
       "| 0 | 1.54 |   7.91 | 2.11 | 161 | 1.5705907 |\n",
       "| 1 | 1.16 |  37.26 | 2.47 | 404 | 1.0774715 |\n",
       "| 1 | 3.77 |  16.33 | 0.26 | 760 | 2.4838976 |\n",
       "| 0 | 1.30 |  24.69 | 3.60 | 236 | 1.0455050 |\n",
       "| 0 | 1.60 | -11.59 | 3.00 | 387 | 0.4376969 |\n",
       "| 1 | 2.22 |   1.79 | 0.58 | 652 | 2.8516326 |\n",
       "\n"
      ],
      "text/plain": [
       "    dividend fcfps earnings_growth de   mcap current_ratio\n",
       "1   0        2.75  -19.25          1.11 545  0.924055665  \n",
       "2   1        4.96    0.83          1.09 630  1.468572230  \n",
       "3   1        2.78    1.09          0.19 562  1.975875106  \n",
       "4   0        0.43   12.97          1.70 388  1.941997716  \n",
       "5   1        2.94    2.44          1.83 684  2.487466999  \n",
       "6   1        3.90   -6.29          0.46 621  1.783252522  \n",
       "7   1        1.09   -5.65          2.32 656  1.189733084  \n",
       "8   0        2.32   15.00          3.34 351  1.729519398  \n",
       "9   1        2.50   11.86          3.15 658  1.926789466  \n",
       "10  1        4.46   23.48          3.33 330  2.813534511  \n",
       "11  0        2.75   20.24          3.61 127  0.130219035  \n",
       "12  0        1.52   19.08          2.53 318  1.662392098  \n",
       "13  0        1.42   21.39          3.22 155  0.567528706  \n",
       "14  0        1.06   24.47          1.84 153  1.845205694  \n",
       "15  1        3.16   24.35          2.82 411  1.413293089  \n",
       "16  1        2.68   22.39          3.57 517  2.104904500  \n",
       "17  1        1.98   22.62          2.38 750  1.815470300  \n",
       "18  0        1.83   28.75          1.42 292  1.759152486  \n",
       "19  1        4.37   33.99          2.10 322  1.834702324  \n",
       "20  0        2.51   -3.95          2.09 342  1.430460184  \n",
       "21  1        2.52   -0.79          1.69 793  1.388667561  \n",
       "22  0        0.47   21.27          1.85 143  0.003717016  \n",
       "23  1        1.89   25.09          1.65 329  1.520532269  \n",
       "24  1        4.40   35.77          0.07 640  2.444476399  \n",
       "25  0        0.57   18.97          2.68 169  1.142599450  \n",
       "26  0        2.08  -14.71          2.54 597  1.103926865  \n",
       "27  1        2.18   22.51          0.80 316  1.825987229  \n",
       "28  1        3.93    5.88          1.92 678  1.906962138  \n",
       "29  1        1.80   24.79          2.43 472  1.579496586  \n",
       "30  1        4.59   21.47          0.06 441  1.610337963  \n",
       "⋮   ⋮        ⋮     ⋮               ⋮    ⋮    ⋮            \n",
       "171 0        1.84    6.25          2.99 258  0.5849823    \n",
       "172 1        1.47    3.52          1.78 574  2.4422286    \n",
       "173 1        4.16   22.51          1.38 436  1.7166017    \n",
       "174 0        1.90   10.35          1.90 380  0.8349719    \n",
       "175 0        2.04  -13.43          3.47 252  1.5887283    \n",
       "176 0        0.81    6.01          3.03 206  1.5442769    \n",
       "177 1        1.08   35.25          3.97 500  1.3019643    \n",
       "178 1        1.97   19.23          2.77 748  2.9054618    \n",
       "179 1        1.16   -6.60          2.83 583  2.1995014    \n",
       "180 0        2.50   -1.42          1.47 294  0.8508191    \n",
       "181 1        4.27   38.82          2.82 390  2.8412309    \n",
       "182 1        3.07    4.44          2.93 545  2.7514337    \n",
       "183 1        2.23   11.75          1.03 421  2.5682289    \n",
       "184 0        1.19  -14.08          3.19 355  1.7645013    \n",
       "185 1        2.77   30.15          2.25 518  1.9723217    \n",
       "186 1        3.26   40.10          1.42 431  1.5574189    \n",
       "187 1        4.76    7.72          2.48 444  1.0301976    \n",
       "188 0        1.70  -13.57          2.93 172  1.9346996    \n",
       "189 1        3.26   22.26          3.71 395  1.4886245    \n",
       "190 1        1.09   33.23          0.83 599  1.0213556    \n",
       "191 0        1.27    5.70          1.75 279  0.1739332    \n",
       "192 0        2.50   28.60          3.11 234  0.5404987    \n",
       "193 1        4.40    8.81          0.08 310  1.1792158    \n",
       "194 1        1.06   -2.62          0.90 751  1.4379533    \n",
       "195 0        1.54    7.91          2.11 161  1.5705907    \n",
       "196 1        1.16   37.26          2.47 404  1.0774715    \n",
       "197 1        3.77   16.33          0.26 760  2.4838976    \n",
       "198 0        1.30   24.69          3.60 236  1.0455050    \n",
       "199 0        1.60  -11.59          3.00 387  0.4376969    \n",
       "200 1        2.22    1.79          0.58 652  2.8516326    "
      ]
     },
     "metadata": {},
     "output_type": "display_data"
    }
   ],
   "source": [
    "# Show all data\n",
    "View(dividend.df)"
   ]
  },
  {
   "cell_type": "code",
   "execution_count": 6,
   "id": "060514a4",
   "metadata": {
    "execution": {
     "iopub.execute_input": "2025-01-01T05:31:32.550727Z",
     "iopub.status.busy": "2025-01-01T05:31:32.549115Z",
     "iopub.status.idle": "2025-01-01T05:31:32.575998Z",
     "shell.execute_reply": "2025-01-01T05:31:32.573854Z"
    },
    "papermill": {
     "duration": 0.041381,
     "end_time": "2025-01-01T05:31:32.578863",
     "exception": false,
     "start_time": "2025-01-01T05:31:32.537482",
     "status": "completed"
    },
    "tags": []
   },
   "outputs": [
    {
     "name": "stdout",
     "output_type": "stream",
     "text": [
      "'data.frame':\t200 obs. of  6 variables:\n",
      " $ dividend       : int  0 1 1 0 1 1 1 0 1 1 ...\n",
      " $ fcfps          : num  2.75 4.96 2.78 0.43 2.94 3.9 1.09 2.32 2.5 4.46 ...\n",
      " $ earnings_growth: num  -19.25 0.83 1.09 12.97 2.44 ...\n",
      " $ de             : num  1.11 1.09 0.19 1.7 1.83 0.46 2.32 3.34 3.15 3.33 ...\n",
      " $ mcap           : int  545 630 562 388 684 621 656 351 658 330 ...\n",
      " $ current_ratio  : num  0.924 1.469 1.976 1.942 2.487 ...\n"
     ]
    }
   ],
   "source": [
    "# Determine the type (class) of each variable in R using the str() function\n",
    "str(dividend.df)"
   ]
  },
  {
   "cell_type": "code",
   "execution_count": 7,
   "id": "83dd1d24",
   "metadata": {
    "execution": {
     "iopub.execute_input": "2025-01-01T05:31:32.602265Z",
     "iopub.status.busy": "2025-01-01T05:31:32.600642Z",
     "iopub.status.idle": "2025-01-01T05:31:32.624903Z",
     "shell.execute_reply": "2025-01-01T05:31:32.622401Z"
    },
    "papermill": {
     "duration": 0.039065,
     "end_time": "2025-01-01T05:31:32.628004",
     "exception": false,
     "start_time": "2025-01-01T05:31:32.588939",
     "status": "completed"
    },
    "tags": []
   },
   "outputs": [
    {
     "data": {
      "text/plain": [
       "    dividend        fcfps       earnings_growth        de       \n",
       " Min.   :0.00   Min.   :0.070   Min.   :-19.25   Min.   :0.060  \n",
       " 1st Qu.:0.00   1st Qu.:1.295   1st Qu.:  0.17   1st Qu.:1.450  \n",
       " Median :1.00   Median :2.085   Median : 11.05   Median :2.195  \n",
       " Mean   :0.51   Mean   :2.266   Mean   : 11.59   Mean   :2.138  \n",
       " 3rd Qu.:1.00   3rd Qu.:3.040   3rd Qu.: 24.16   3rd Qu.:2.930  \n",
       " Max.   :1.00   Max.   :5.000   Max.   : 40.10   Max.   :3.990  \n",
       "      mcap       current_ratio     \n",
       " Min.   :103.0   Min.   :0.001436  \n",
       " 1st Qu.:289.5   1st Qu.:1.038044  \n",
       " Median :380.5   Median :1.508622  \n",
       " Mean   :417.9   Mean   :1.502255  \n",
       " 3rd Qu.:551.2   3rd Qu.:1.960627  \n",
       " Max.   :799.0   Max.   :2.905462  "
      ]
     },
     "metadata": {},
     "output_type": "display_data"
    }
   ],
   "source": [
    "# Determine the summary statistics for each column\n",
    "summary(dividend.df)"
   ]
  },
  {
   "cell_type": "code",
   "execution_count": 8,
   "id": "de3c47c2",
   "metadata": {
    "execution": {
     "iopub.execute_input": "2025-01-01T05:31:32.651369Z",
     "iopub.status.busy": "2025-01-01T05:31:32.649686Z",
     "iopub.status.idle": "2025-01-01T05:31:32.672019Z",
     "shell.execute_reply": "2025-01-01T05:31:32.669513Z"
    },
    "papermill": {
     "duration": 0.037656,
     "end_time": "2025-01-01T05:31:32.675573",
     "exception": false,
     "start_time": "2025-01-01T05:31:32.637917",
     "status": "completed"
    },
    "tags": []
   },
   "outputs": [
    {
     "data": {
      "text/html": [
       "<style>\n",
       ".dl-inline {width: auto; margin:0; padding: 0}\n",
       ".dl-inline>dt, .dl-inline>dd {float: none; width: auto; display: inline-block}\n",
       ".dl-inline>dt::after {content: \":\\0020\"; padding-right: .5ex}\n",
       ".dl-inline>dt:not(:first-of-type) {padding-left: .5ex}\n",
       "</style><dl class=dl-inline><dt>dividend</dt><dd>0</dd><dt>fcfps</dt><dd>0</dd><dt>earnings_growth</dt><dd>0</dd><dt>de</dt><dd>0</dd><dt>mcap</dt><dd>0</dd><dt>current_ratio</dt><dd>0</dd></dl>\n"
      ],
      "text/latex": [
       "\\begin{description*}\n",
       "\\item[dividend] 0\n",
       "\\item[fcfps] 0\n",
       "\\item[earnings\\textbackslash{}\\_growth] 0\n",
       "\\item[de] 0\n",
       "\\item[mcap] 0\n",
       "\\item[current\\textbackslash{}\\_ratio] 0\n",
       "\\end{description*}\n"
      ],
      "text/markdown": [
       "dividend\n",
       ":   0fcfps\n",
       ":   0earnings_growth\n",
       ":   0de\n",
       ":   0mcap\n",
       ":   0current_ratio\n",
       ":   0\n",
       "\n"
      ],
      "text/plain": [
       "       dividend           fcfps earnings_growth              de            mcap \n",
       "              0               0               0               0               0 \n",
       "  current_ratio \n",
       "              0 "
      ]
     },
     "metadata": {},
     "output_type": "display_data"
    }
   ],
   "source": [
    "# Check for missing values in the data\n",
    "sapply(dividend.df, function(x) sum(is.na(x)))"
   ]
  },
  {
   "cell_type": "code",
   "execution_count": 9,
   "id": "5ec8d343",
   "metadata": {
    "execution": {
     "iopub.execute_input": "2025-01-01T05:31:32.699868Z",
     "iopub.status.busy": "2025-01-01T05:31:32.698253Z",
     "iopub.status.idle": "2025-01-01T05:31:32.718826Z",
     "shell.execute_reply": "2025-01-01T05:31:32.716590Z"
    },
    "papermill": {
     "duration": 0.035688,
     "end_time": "2025-01-01T05:31:32.721947",
     "exception": false,
     "start_time": "2025-01-01T05:31:32.686259",
     "status": "completed"
    },
    "tags": []
   },
   "outputs": [
    {
     "name": "stdout",
     "output_type": "stream",
     "text": [
      "named numeric(0)\n"
     ]
    }
   ],
   "source": [
    "# Check for missing values in the data\n",
    "missing_values <- colSums(is.na(dividend.df))\n",
    "# Print the columns with missing values and their counts\n",
    "print(missing_values[missing_values > 0])"
   ]
  },
  {
   "cell_type": "code",
   "execution_count": 10,
   "id": "8e7c6367",
   "metadata": {
    "execution": {
     "iopub.execute_input": "2025-01-01T05:31:32.745376Z",
     "iopub.status.busy": "2025-01-01T05:31:32.743787Z",
     "iopub.status.idle": "2025-01-01T05:31:32.767946Z",
     "shell.execute_reply": "2025-01-01T05:31:32.765661Z"
    },
    "papermill": {
     "duration": 0.039336,
     "end_time": "2025-01-01T05:31:32.771135",
     "exception": false,
     "start_time": "2025-01-01T05:31:32.731799",
     "status": "completed"
    },
    "tags": []
   },
   "outputs": [
    {
     "name": "stdout",
     "output_type": "stream",
     "text": [
      "[1] dividend        fcfps           earnings_growth de             \n",
      "[5] mcap            current_ratio  \n",
      "<0 rows> (or 0-length row.names)\n"
     ]
    }
   ],
   "source": [
    "# Check for duplicate entries in dividend.df\n",
    "dupes <- dividend.df[duplicated(dividend.df) | duplicated(dividend.df, fromLast = TRUE), ]\n",
    "# Print or inspect the duplicate entries\n",
    "print(dupes)"
   ]
  },
  {
   "cell_type": "markdown",
   "id": "1ed57dea",
   "metadata": {
    "papermill": {
     "duration": 0.010595,
     "end_time": "2025-01-01T05:31:32.792315",
     "exception": false,
     "start_time": "2025-01-01T05:31:32.781720",
     "status": "completed"
    },
    "tags": []
   },
   "source": [
    "### **Explore Dataset through Visualization**"
   ]
  },
  {
   "cell_type": "code",
   "execution_count": 11,
   "id": "5d8a8135",
   "metadata": {
    "execution": {
     "iopub.execute_input": "2025-01-01T05:31:32.816454Z",
     "iopub.status.busy": "2025-01-01T05:31:32.814842Z",
     "iopub.status.idle": "2025-01-01T05:31:32.830581Z",
     "shell.execute_reply": "2025-01-01T05:31:32.828860Z"
    },
    "papermill": {
     "duration": 0.030928,
     "end_time": "2025-01-01T05:31:32.833738",
     "exception": false,
     "start_time": "2025-01-01T05:31:32.802810",
     "status": "completed"
    },
    "tags": []
   },
   "outputs": [],
   "source": [
    "# Set the width and height of the plot area\n",
    "options(repr.plot.width = 12, repr.plot.height = 6)"
   ]
  },
  {
   "cell_type": "code",
   "execution_count": 12,
   "id": "38761e5a",
   "metadata": {
    "execution": {
     "iopub.execute_input": "2025-01-01T05:31:32.857277Z",
     "iopub.status.busy": "2025-01-01T05:31:32.855698Z",
     "iopub.status.idle": "2025-01-01T05:31:33.583860Z",
     "shell.execute_reply": "2025-01-01T05:31:33.581134Z"
    },
    "papermill": {
     "duration": 0.743622,
     "end_time": "2025-01-01T05:31:33.587285",
     "exception": false,
     "start_time": "2025-01-01T05:31:32.843663",
     "status": "completed"
    },
    "tags": []
   },
   "outputs": [
    {
     "data": {
      "image/png": "[encoded data removed]"
     },
     "metadata": {
      "image/png": {
       "height": 360,
       "width": 720
      }
     },
     "output_type": "display_data"
    }
   ],
   "source": [
    "# Create side-by-side box plots for 0 dividend and 1 dividend\n",
    "ggplot(dividend.df, aes(x = fcfps, y = dividend, fill = as.factor(dividend))) +\n",
    "  geom_boxplot() +\n",
    "  labs(title = \"Boxplot of FCFPS for 0 (No) Dividend vs 1 (Yes) Dividend\",\n",
    "      x = \"fcfps\", y = \"Dividends\", fill = \"Dividends\") +\n",
    "  theme_test() +\n",
    "  scale_fill_manual(values = c(\"red\", \"green\"))"
   ]
  },
  {
   "cell_type": "code",
   "execution_count": 13,
   "id": "ca1fcb6d",
   "metadata": {
    "execution": {
     "iopub.execute_input": "2025-01-01T05:31:33.612993Z",
     "iopub.status.busy": "2025-01-01T05:31:33.611428Z",
     "iopub.status.idle": "2025-01-01T05:31:34.161964Z",
     "shell.execute_reply": "2025-01-01T05:31:34.158947Z"
    },
    "papermill": {
     "duration": 0.566653,
     "end_time": "2025-01-01T05:31:34.165323",
     "exception": false,
     "start_time": "2025-01-01T05:31:33.598670",
     "status": "completed"
    },
    "tags": []
   },
   "outputs": [
    {
     "data": {
      "image/png": "[encoded data removed]"
     },
     "metadata": {
      "image/png": {
       "height": 360,
       "width": 720
      }
     },
     "output_type": "display_data"
    }
   ],
   "source": [
    "# Create side-by-side boxplots for dividend (x-axis) and earnings_growth (y-axis) with grey and red colors\n",
    "ggplot(dividend.df, aes(x = as.factor(dividend), y = earnings_growth, fill = as.factor(dividend))) +\n",
    "  geom_boxplot() +  # Add boxplots\n",
    "  labs(title = \"Boxplots of Earnings Growth by Dividend\", x = \"Dividend\", \n",
    "       y = \"Earnings_growth\", fill = \"Dividends\") +  # Set plot title and axis labels\n",
    "  theme_test() +  # Set plot theme\n",
    "  scale_fill_manual(values = c(\"red\", \"green\"))  # Set boxplot fill colors"
   ]
  },
  {
   "cell_type": "code",
   "execution_count": 14,
   "id": "97006fcf",
   "metadata": {
    "execution": {
     "iopub.execute_input": "2025-01-01T05:31:34.194214Z",
     "iopub.status.busy": "2025-01-01T05:31:34.192564Z",
     "iopub.status.idle": "2025-01-01T05:31:34.527336Z",
     "shell.execute_reply": "2025-01-01T05:31:34.524494Z"
    },
    "papermill": {
     "duration": 0.352757,
     "end_time": "2025-01-01T05:31:34.530555",
     "exception": false,
     "start_time": "2025-01-01T05:31:34.177798",
     "status": "completed"
    },
    "tags": []
   },
   "outputs": [
    {
     "data": {
      "image/png": "[encoded data removed]"
     },
     "metadata": {
      "image/png": {
       "height": 360,
       "width": 720
      }
     },
     "output_type": "display_data"
    }
   ],
   "source": [
    "# Create side-by-side boxplots for dividend (x-axis) and de (y-axis) with grey and red colors\n",
    "ggplot(dividend.df, aes(x = as.factor(dividend), y = de, fill = as.factor(dividend))) +\n",
    "  geom_boxplot() +  # Add boxplots\n",
    "  labs(title = \"Boxplots of Debt-to-Equity Ratio by Dividend\", x = \"Dividend\", y = \"de\") +  # Set plot title and axis labels\n",
    "  theme_test() +  # Set plot theme\n",
    "  scale_fill_manual(values = c(\"red\", \"green\"))  # Set boxplot fill colors"
   ]
  },
  {
   "cell_type": "code",
   "execution_count": 15,
   "id": "bcca3e19",
   "metadata": {
    "execution": {
     "iopub.execute_input": "2025-01-01T05:31:34.558529Z",
     "iopub.status.busy": "2025-01-01T05:31:34.556904Z",
     "iopub.status.idle": "2025-01-01T05:31:34.888350Z",
     "shell.execute_reply": "2025-01-01T05:31:34.885429Z"
    },
    "papermill": {
     "duration": 0.348287,
     "end_time": "2025-01-01T05:31:34.891541",
     "exception": false,
     "start_time": "2025-01-01T05:31:34.543254",
     "status": "completed"
    },
    "tags": []
   },
   "outputs": [
    {
     "data": {
      "image/png": "[encoded data removed]"
     },
     "metadata": {
      "image/png": {
       "height": 360,
       "width": 720
      }
     },
     "output_type": "display_data"
    }
   ],
   "source": [
    "# Create side-by-side boxplots for dividend (x-axis) and market capitalization (y-axis) with grey and red colors\n",
    "ggplot(dividend.df, aes(x = as.factor(dividend), y = mcap, fill = as.factor(dividend))) +\n",
    "  geom_boxplot() +  # Add boxplots\n",
    "  labs(title = \"Boxplots of Market Capitalization by Dividend\", x = \"Dividend\", \n",
    "       y = \"mcap\", fill = \"Dividends\") +  # Set plot title and axis labels\n",
    "  theme_test() +  # Set plot theme\n",
    "  scale_fill_manual(values = c(\"red\", \"green\"))  # Set boxplot fill colors"
   ]
  },
  {
   "cell_type": "code",
   "execution_count": 16,
   "id": "94c5bfa9",
   "metadata": {
    "execution": {
     "iopub.execute_input": "2025-01-01T05:31:34.920678Z",
     "iopub.status.busy": "2025-01-01T05:31:34.919057Z",
     "iopub.status.idle": "2025-01-01T05:31:34.941202Z",
     "shell.execute_reply": "2025-01-01T05:31:34.939465Z"
    },
    "papermill": {
     "duration": 0.040264,
     "end_time": "2025-01-01T05:31:34.944442",
     "exception": false,
     "start_time": "2025-01-01T05:31:34.904178",
     "status": "completed"
    },
    "tags": []
   },
   "outputs": [],
   "source": [
    "# Remove the outlier\n",
    "# Remove rows where mcap is greater than 580\n",
    "dividend.df <- dividend.df[dividend.df$mcap <= 580, ]"
   ]
  },
  {
   "cell_type": "code",
   "execution_count": 17,
   "id": "feefee82",
   "metadata": {
    "execution": {
     "iopub.execute_input": "2025-01-01T05:31:34.974342Z",
     "iopub.status.busy": "2025-01-01T05:31:34.972752Z",
     "iopub.status.idle": "2025-01-01T05:31:35.308850Z",
     "shell.execute_reply": "2025-01-01T05:31:35.305986Z"
    },
    "papermill": {
     "duration": 0.354856,
     "end_time": "2025-01-01T05:31:35.312132",
     "exception": false,
     "start_time": "2025-01-01T05:31:34.957276",
     "status": "completed"
    },
    "tags": []
   },
   "outputs": [
    {
     "data": {
      "image/png": "[encoded data removed]"
     },
     "metadata": {
      "image/png": {
       "height": 360,
       "width": 720
      }
     },
     "output_type": "display_data"
    }
   ],
   "source": [
    "# Create side-by-side boxplots for dividend (x-axis) and current_ratio (y-axis) with grey and red colors\n",
    "ggplot(dividend.df, aes(x = as.factor(dividend), y = current_ratio, fill = as.factor(dividend))) +\n",
    "  geom_boxplot() +  # Add boxplots\n",
    "  labs(title = \"Boxplots of Current Ratio by Dividend\", x = \"Dividend\", \n",
    "       y = \"current_ratio\", fill = \"Dividends\") +  # Set plot title and axis labels\n",
    "  theme_test() +  # Set plot theme\n",
    "  scale_fill_manual(values = c(\"red\", \"green\"))  # Set boxplot fill colors"
   ]
  },
  {
   "cell_type": "markdown",
   "id": "0b140141",
   "metadata": {
    "papermill": {
     "duration": 0.046168,
     "end_time": "2025-01-01T05:31:35.371955",
     "exception": false,
     "start_time": "2025-01-01T05:31:35.325787",
     "status": "completed"
    },
    "tags": []
   },
   "source": [
    "## **Modeling**"
   ]
  },
  {
   "cell_type": "markdown",
   "id": "b8b4127a",
   "metadata": {
    "papermill": {
     "duration": 0.013307,
     "end_time": "2025-01-01T05:31:35.399423",
     "exception": false,
     "start_time": "2025-01-01T05:31:35.386116",
     "status": "completed"
    },
    "tags": []
   },
   "source": [
    "### Determine the Data Mining Task\n",
    "In this case study, we aim to clasify whether a stock will have dividends. The first variable \"dividend\" is the response or output variable. Therefore, our task is supervised classification because we will classify the outcome using the labelled data.\n",
    "\n",
    "### Choose the Methods\n",
    "Given our task is classification, we will select an appropriate method. We will use Neural Networks for this case study."
   ]
  },
  {
   "cell_type": "markdown",
   "id": "e36937d6",
   "metadata": {
    "papermill": {
     "duration": 0.013692,
     "end_time": "2025-01-01T05:31:35.426219",
     "exception": false,
     "start_time": "2025-01-01T05:31:35.412527",
     "status": "completed"
    },
    "tags": []
   },
   "source": [
    "### Clean and Transform the Data Set"
   ]
  },
  {
   "cell_type": "code",
   "execution_count": 18,
   "id": "1b65489a",
   "metadata": {
    "execution": {
     "iopub.execute_input": "2025-01-01T05:31:35.456226Z",
     "iopub.status.busy": "2025-01-01T05:31:35.454636Z",
     "iopub.status.idle": "2025-01-01T05:31:35.477699Z",
     "shell.execute_reply": "2025-01-01T05:31:35.475908Z"
    },
    "papermill": {
     "duration": 0.041588,
     "end_time": "2025-01-01T05:31:35.480985",
     "exception": false,
     "start_time": "2025-01-01T05:31:35.439397",
     "status": "completed"
    },
    "tags": []
   },
   "outputs": [],
   "source": [
    "# Normalize the data\n",
    "# Max-min normalization\n",
    "normalize <- function(x) {\n",
    "  return ((x - min(x)) / (max(x) - min(x)))\n",
    "}\n",
    "# Run the function across the existing data\n",
    "# Save the scaled dataset as maxmindf\n",
    "normalized.df <- as.data.frame(lapply(dividend.df, normalize))"
   ]
  },
  {
   "cell_type": "code",
   "execution_count": 19,
   "id": "1aeca526",
   "metadata": {
    "execution": {
     "iopub.execute_input": "2025-01-01T05:31:35.510674Z",
     "iopub.status.busy": "2025-01-01T05:31:35.509136Z",
     "iopub.status.idle": "2025-01-01T05:31:35.526348Z",
     "shell.execute_reply": "2025-01-01T05:31:35.524585Z"
    },
    "papermill": {
     "duration": 0.035678,
     "end_time": "2025-01-01T05:31:35.529659",
     "exception": false,
     "start_time": "2025-01-01T05:31:35.493981",
     "status": "completed"
    },
    "tags": []
   },
   "outputs": [],
   "source": [
    "# Partition the data into 60% training and 40% testing\n",
    "# Randomly select 60% of the row IDs for training\n",
    "# The remaining 40% will be the testing data\n",
    "# Set seed for reproducibility\n",
    "set.seed(123)\n",
    "training.rows <- sample(1:nrow(normalized.df), nrow(normalized.df) * 0.6)"
   ]
  },
  {
   "cell_type": "code",
   "execution_count": 20,
   "id": "261fc695",
   "metadata": {
    "execution": {
     "iopub.execute_input": "2025-01-01T05:31:35.559570Z",
     "iopub.status.busy": "2025-01-01T05:31:35.557947Z",
     "iopub.status.idle": "2025-01-01T05:31:35.589408Z",
     "shell.execute_reply": "2025-01-01T05:31:35.586929Z"
    },
    "papermill": {
     "duration": 0.049598,
     "end_time": "2025-01-01T05:31:35.592475",
     "exception": false,
     "start_time": "2025-01-01T05:31:35.542877",
     "status": "completed"
    },
    "tags": []
   },
   "outputs": [
    {
     "data": {
      "text/html": [
       "<table class=\"dataframe\">\n",
       "<caption>A data.frame: 6 × 6</caption>\n",
       "<thead>\n",
       "\t<tr><th></th><th scope=col>dividend</th><th scope=col>fcfps</th><th scope=col>earnings_growth</th><th scope=col>de</th><th scope=col>mcap</th><th scope=col>current_ratio</th></tr>\n",
       "\t<tr><th></th><th scope=col>&lt;dbl&gt;</th><th scope=col>&lt;dbl&gt;</th><th scope=col>&lt;dbl&gt;</th><th scope=col>&lt;dbl&gt;</th><th scope=col>&lt;dbl&gt;</th><th scope=col>&lt;dbl&gt;</th></tr>\n",
       "</thead>\n",
       "<tbody>\n",
       "\t<tr><th scope=row>14</th><td>0</td><td>0.5202559</td><td>0.25779275</td><td>0.5165394</td><td>0.5074310</td><td>0.5032139</td></tr>\n",
       "\t<tr><th scope=row>50</th><td>0</td><td>0.5245203</td><td>0.13108677</td><td>0.5470738</td><td>0.3885350</td><td>0.7001953</td></tr>\n",
       "\t<tr><th scope=row>118</th><td>1</td><td>0.9658849</td><td>0.26436394</td><td>0.1094148</td><td>0.5562633</td><td>0.9575007</td></tr>\n",
       "\t<tr><th scope=row>43</th><td>0</td><td>0.1407249</td><td>0.05914069</td><td>0.4809160</td><td>0.3099788</td><td>0.1825572</td></tr>\n",
       "\t<tr><th scope=row>154</th><td>0</td><td>0.3262260</td><td>0.12906487</td><td>0.7480916</td><td>0.6029724</td><td>0.1536242</td></tr>\n",
       "\t<tr><th scope=row>152</th><td>1</td><td>0.2324094</td><td>0.95214827</td><td>0.6132316</td><td>0.6390658</td><td>0.3789132</td></tr>\n",
       "</tbody>\n",
       "</table>\n"
      ],
      "text/latex": [
       "A data.frame: 6 × 6\n",
       "\\begin{tabular}{r|llllll}\n",
       "  & dividend & fcfps & earnings\\_growth & de & mcap & current\\_ratio\\\\\n",
       "  & <dbl> & <dbl> & <dbl> & <dbl> & <dbl> & <dbl>\\\\\n",
       "\\hline\n",
       "\t14 & 0 & 0.5202559 & 0.25779275 & 0.5165394 & 0.5074310 & 0.5032139\\\\\n",
       "\t50 & 0 & 0.5245203 & 0.13108677 & 0.5470738 & 0.3885350 & 0.7001953\\\\\n",
       "\t118 & 1 & 0.9658849 & 0.26436394 & 0.1094148 & 0.5562633 & 0.9575007\\\\\n",
       "\t43 & 0 & 0.1407249 & 0.05914069 & 0.4809160 & 0.3099788 & 0.1825572\\\\\n",
       "\t154 & 0 & 0.3262260 & 0.12906487 & 0.7480916 & 0.6029724 & 0.1536242\\\\\n",
       "\t152 & 1 & 0.2324094 & 0.95214827 & 0.6132316 & 0.6390658 & 0.3789132\\\\\n",
       "\\end{tabular}\n"
      ],
      "text/markdown": [
       "\n",
       "A data.frame: 6 × 6\n",
       "\n",
       "| <!--/--> | dividend &lt;dbl&gt; | fcfps &lt;dbl&gt; | earnings_growth &lt;dbl&gt; | de &lt;dbl&gt; | mcap &lt;dbl&gt; | current_ratio &lt;dbl&gt; |\n",
       "|---|---|---|---|---|---|---|\n",
       "| 14 | 0 | 0.5202559 | 0.25779275 | 0.5165394 | 0.5074310 | 0.5032139 |\n",
       "| 50 | 0 | 0.5245203 | 0.13108677 | 0.5470738 | 0.3885350 | 0.7001953 |\n",
       "| 118 | 1 | 0.9658849 | 0.26436394 | 0.1094148 | 0.5562633 | 0.9575007 |\n",
       "| 43 | 0 | 0.1407249 | 0.05914069 | 0.4809160 | 0.3099788 | 0.1825572 |\n",
       "| 154 | 0 | 0.3262260 | 0.12906487 | 0.7480916 | 0.6029724 | 0.1536242 |\n",
       "| 152 | 1 | 0.2324094 | 0.95214827 | 0.6132316 | 0.6390658 | 0.3789132 |\n",
       "\n"
      ],
      "text/plain": [
       "    dividend fcfps     earnings_growth de        mcap      current_ratio\n",
       "14  0        0.5202559 0.25779275      0.5165394 0.5074310 0.5032139    \n",
       "50  0        0.5245203 0.13108677      0.5470738 0.3885350 0.7001953    \n",
       "118 1        0.9658849 0.26436394      0.1094148 0.5562633 0.9575007    \n",
       "43  0        0.1407249 0.05914069      0.4809160 0.3099788 0.1825572    \n",
       "154 0        0.3262260 0.12906487      0.7480916 0.6029724 0.1536242    \n",
       "152 1        0.2324094 0.95214827      0.6132316 0.6390658 0.3789132    "
      ]
     },
     "metadata": {},
     "output_type": "display_data"
    }
   ],
   "source": [
    "# Organize all of the columns with the training row ID into the training set\n",
    "training.data <- normalized.df[training.rows, ]\n",
    "head(training.data)"
   ]
  },
  {
   "cell_type": "code",
   "execution_count": 21,
   "id": "0cf1628a",
   "metadata": {
    "execution": {
     "iopub.execute_input": "2025-01-01T05:31:35.623218Z",
     "iopub.status.busy": "2025-01-01T05:31:35.621595Z",
     "iopub.status.idle": "2025-01-01T05:31:35.660702Z",
     "shell.execute_reply": "2025-01-01T05:31:35.658320Z"
    },
    "papermill": {
     "duration": 0.058021,
     "end_time": "2025-01-01T05:31:35.663872",
     "exception": false,
     "start_time": "2025-01-01T05:31:35.605851",
     "status": "completed"
    },
    "tags": []
   },
   "outputs": [
    {
     "data": {
      "text/html": [
       "<table class=\"dataframe\">\n",
       "<caption>A data.frame: 6 × 6</caption>\n",
       "<thead>\n",
       "\t<tr><th></th><th scope=col>dividend</th><th scope=col>fcfps</th><th scope=col>earnings_growth</th><th scope=col>de</th><th scope=col>mcap</th><th scope=col>current_ratio</th></tr>\n",
       "\t<tr><th></th><th scope=col>&lt;dbl&gt;</th><th scope=col>&lt;dbl&gt;</th><th scope=col>&lt;dbl&gt;</th><th scope=col>&lt;dbl&gt;</th><th scope=col>&lt;dbl&gt;</th><th scope=col>&lt;dbl&gt;</th></tr>\n",
       "</thead>\n",
       "<tbody>\n",
       "\t<tr><th scope=row>1</th><td>0</td><td>0.57142857</td><td>0.0000000</td><td>0.26717557</td><td>0.9384289</td><td>0.3248896</td></tr>\n",
       "\t<tr><th scope=row>2</th><td>1</td><td>0.57782516</td><td>0.3427127</td><td>0.03307888</td><td>0.9745223</td><td>0.6952753</td></tr>\n",
       "\t<tr><th scope=row>3</th><td>0</td><td>0.07675906</td><td>0.5428812</td><td>0.41730280</td><td>0.6050955</td><td>0.6833458</td></tr>\n",
       "\t<tr><th scope=row>5</th><td>1</td><td>0.93603412</td><td>0.7199663</td><td>0.83206107</td><td>0.4819533</td><td>0.9902471</td></tr>\n",
       "\t<tr><th scope=row>9</th><td>0</td><td>0.21108742</td><td>0.7366470</td><td>0.45292621</td><td>0.1061571</td><td>0.6492616</td></tr>\n",
       "\t<tr><th scope=row>10</th><td>1</td><td>0.65884861</td><td>0.7346251</td><td>0.70229008</td><td>0.6539278</td><td>0.4971687</td></tr>\n",
       "</tbody>\n",
       "</table>\n"
      ],
      "text/latex": [
       "A data.frame: 6 × 6\n",
       "\\begin{tabular}{r|llllll}\n",
       "  & dividend & fcfps & earnings\\_growth & de & mcap & current\\_ratio\\\\\n",
       "  & <dbl> & <dbl> & <dbl> & <dbl> & <dbl> & <dbl>\\\\\n",
       "\\hline\n",
       "\t1 & 0 & 0.57142857 & 0.0000000 & 0.26717557 & 0.9384289 & 0.3248896\\\\\n",
       "\t2 & 1 & 0.57782516 & 0.3427127 & 0.03307888 & 0.9745223 & 0.6952753\\\\\n",
       "\t3 & 0 & 0.07675906 & 0.5428812 & 0.41730280 & 0.6050955 & 0.6833458\\\\\n",
       "\t5 & 1 & 0.93603412 & 0.7199663 & 0.83206107 & 0.4819533 & 0.9902471\\\\\n",
       "\t9 & 0 & 0.21108742 & 0.7366470 & 0.45292621 & 0.1061571 & 0.6492616\\\\\n",
       "\t10 & 1 & 0.65884861 & 0.7346251 & 0.70229008 & 0.6539278 & 0.4971687\\\\\n",
       "\\end{tabular}\n"
      ],
      "text/markdown": [
       "\n",
       "A data.frame: 6 × 6\n",
       "\n",
       "| <!--/--> | dividend &lt;dbl&gt; | fcfps &lt;dbl&gt; | earnings_growth &lt;dbl&gt; | de &lt;dbl&gt; | mcap &lt;dbl&gt; | current_ratio &lt;dbl&gt; |\n",
       "|---|---|---|---|---|---|---|\n",
       "| 1 | 0 | 0.57142857 | 0.0000000 | 0.26717557 | 0.9384289 | 0.3248896 |\n",
       "| 2 | 1 | 0.57782516 | 0.3427127 | 0.03307888 | 0.9745223 | 0.6952753 |\n",
       "| 3 | 0 | 0.07675906 | 0.5428812 | 0.41730280 | 0.6050955 | 0.6833458 |\n",
       "| 5 | 1 | 0.93603412 | 0.7199663 | 0.83206107 | 0.4819533 | 0.9902471 |\n",
       "| 9 | 0 | 0.21108742 | 0.7366470 | 0.45292621 | 0.1061571 | 0.6492616 |\n",
       "| 10 | 1 | 0.65884861 | 0.7346251 | 0.70229008 | 0.6539278 | 0.4971687 |\n",
       "\n"
      ],
      "text/plain": [
       "   dividend fcfps      earnings_growth de         mcap      current_ratio\n",
       "1  0        0.57142857 0.0000000       0.26717557 0.9384289 0.3248896    \n",
       "2  1        0.57782516 0.3427127       0.03307888 0.9745223 0.6952753    \n",
       "3  0        0.07675906 0.5428812       0.41730280 0.6050955 0.6833458    \n",
       "5  1        0.93603412 0.7199663       0.83206107 0.4819533 0.9902471    \n",
       "9  0        0.21108742 0.7366470       0.45292621 0.1061571 0.6492616    \n",
       "10 1        0.65884861 0.7346251       0.70229008 0.6539278 0.4971687    "
      ]
     },
     "metadata": {},
     "output_type": "display_data"
    }
   ],
   "source": [
    "# Assign row IDs that are not in the training set into the validation set\n",
    "testing.rows <- setdiff(1:nrow(normalized.df), training.rows)\n",
    "testing.data <- normalized.df[-training.rows, ]\n",
    "head(testing.data)"
   ]
  },
  {
   "cell_type": "markdown",
   "id": "ba4f9721",
   "metadata": {
    "papermill": {
     "duration": 0.013829,
     "end_time": "2025-01-01T05:31:35.692019",
     "exception": false,
     "start_time": "2025-01-01T05:31:35.678190",
     "status": "completed"
    },
    "tags": []
   },
   "source": [
    "### Check the Distribution"
   ]
  },
  {
   "cell_type": "code",
   "execution_count": 22,
   "id": "df61b38c",
   "metadata": {
    "execution": {
     "iopub.execute_input": "2025-01-01T05:31:35.723804Z",
     "iopub.status.busy": "2025-01-01T05:31:35.722010Z",
     "iopub.status.idle": "2025-01-01T05:31:35.746762Z",
     "shell.execute_reply": "2025-01-01T05:31:35.744651Z"
    },
    "papermill": {
     "duration": 0.043663,
     "end_time": "2025-01-01T05:31:35.749538",
     "exception": false,
     "start_time": "2025-01-01T05:31:35.705875",
     "status": "completed"
    },
    "tags": []
   },
   "outputs": [
    {
     "data": {
      "text/plain": [
       "\n",
       "        0         1 \n",
       "0.6304348 0.3695652 "
      ]
     },
     "metadata": {},
     "output_type": "display_data"
    },
    {
     "data": {
      "text/plain": [
       "\n",
       "        0         1 \n",
       "0.6129032 0.3870968 "
      ]
     },
     "metadata": {},
     "output_type": "display_data"
    }
   ],
   "source": [
    "# Check the distribution of subscriptions rates across training and testing set\n",
    "# to ensure the subsets are balanced\n",
    "prop.table(table(training.data$dividend))\n",
    "prop.table(table(testing.data$dividend))"
   ]
  },
  {
   "cell_type": "markdown",
   "id": "3d8b5bd5",
   "metadata": {
    "papermill": {
     "duration": 0.014484,
     "end_time": "2025-01-01T05:31:35.778175",
     "exception": false,
     "start_time": "2025-01-01T05:31:35.763691",
     "status": "completed"
    },
    "tags": []
   },
   "source": [
    "### Build the Model"
   ]
  },
  {
   "cell_type": "code",
   "execution_count": 23,
   "id": "a230d60d",
   "metadata": {
    "execution": {
     "iopub.execute_input": "2025-01-01T05:31:35.810132Z",
     "iopub.status.busy": "2025-01-01T05:31:35.808500Z",
     "iopub.status.idle": "2025-01-01T05:31:35.904773Z",
     "shell.execute_reply": "2025-01-01T05:31:35.902876Z"
    },
    "papermill": {
     "duration": 0.115403,
     "end_time": "2025-01-01T05:31:35.907840",
     "exception": false,
     "start_time": "2025-01-01T05:31:35.792437",
     "status": "completed"
    },
    "tags": []
   },
   "outputs": [],
   "source": [
    "# Train the neural network model\n",
    "# Regress the dependent variable, dividend, against all the independent variables\n",
    "# Set the number of hidden layers to (2,1)\n",
    "# Set linear.output to FALSE (assume the relationship is non-linear)\n",
    "# Set threshold to 0.01 A change in error for an iteration less than 1% will stop the optimization of the model\n",
    "nn <- neuralnet(dividend ~ ., data = training.data, hidden = c(2,1), linear.output = FALSE, threshold = 0.01)"
   ]
  },
  {
   "cell_type": "markdown",
   "id": "eb445592",
   "metadata": {
    "papermill": {
     "duration": 0.013847,
     "end_time": "2025-01-01T05:31:35.935717",
     "exception": false,
     "start_time": "2025-01-01T05:31:35.921870",
     "status": "completed"
    },
    "tags": []
   },
   "source": [
    "We are creating neural network model using the neuralnet function in R. Here is the breakdown of the components:\n",
    "* **nn:** This is the neural network model\n",
    "* **neuralnet():** This is the function used to create the neural network model.\n",
    "* **dividend ~ .:**"
   ]
  },
  {
   "cell_type": "code",
   "execution_count": 24,
   "id": "f23dadc9",
   "metadata": {
    "execution": {
     "iopub.execute_input": "2025-01-01T05:31:35.967028Z",
     "iopub.status.busy": "2025-01-01T05:31:35.965407Z",
     "iopub.status.idle": "2025-01-01T05:31:36.003204Z",
     "shell.execute_reply": "2025-01-01T05:31:36.001287Z"
    },
    "papermill": {
     "duration": 0.056669,
     "end_time": "2025-01-01T05:31:36.006127",
     "exception": false,
     "start_time": "2025-01-01T05:31:35.949458",
     "status": "completed"
    },
    "tags": []
   },
   "outputs": [
    {
     "data": {
      "text/html": [
       "<table class=\"dataframe\">\n",
       "<caption>A matrix: 20 × 1 of type dbl</caption>\n",
       "<tbody>\n",
       "\t<tr><th scope=row>error</th><td>  0.509796456</td></tr>\n",
       "\t<tr><th scope=row>reached.threshold</th><td>  0.008677528</td></tr>\n",
       "\t<tr><th scope=row>steps</th><td>560.000000000</td></tr>\n",
       "\t<tr><th scope=row>Intercept.to.1layhid1</th><td>  1.417229546</td></tr>\n",
       "\t<tr><th scope=row>fcfps.to.1layhid1</th><td> -2.057312420</td></tr>\n",
       "\t<tr><th scope=row>earnings_growth.to.1layhid1</th><td>  0.543310736</td></tr>\n",
       "\t<tr><th scope=row>de.to.1layhid1</th><td>  0.816817777</td></tr>\n",
       "\t<tr><th scope=row>mcap.to.1layhid1</th><td> -5.366661798</td></tr>\n",
       "\t<tr><th scope=row>current_ratio.to.1layhid1</th><td> -0.652381891</td></tr>\n",
       "\t<tr><th scope=row>Intercept.to.1layhid2</th><td>  2.824504644</td></tr>\n",
       "\t<tr><th scope=row>fcfps.to.1layhid2</th><td> -2.975473092</td></tr>\n",
       "\t<tr><th scope=row>earnings_growth.to.1layhid2</th><td> -4.341368774</td></tr>\n",
       "\t<tr><th scope=row>de.to.1layhid2</th><td>  3.655652350</td></tr>\n",
       "\t<tr><th scope=row>mcap.to.1layhid2</th><td> -3.197997255</td></tr>\n",
       "\t<tr><th scope=row>current_ratio.to.1layhid2</th><td> -2.509617042</td></tr>\n",
       "\t<tr><th scope=row>Intercept.to.2layhid1</th><td> -3.699640078</td></tr>\n",
       "\t<tr><th scope=row>1layhid1.to.2layhid1</th><td> 15.491920437</td></tr>\n",
       "\t<tr><th scope=row>1layhid2.to.2layhid1</th><td>  8.625380348</td></tr>\n",
       "\t<tr><th scope=row>Intercept.to.dividend</th><td> 11.550307107</td></tr>\n",
       "\t<tr><th scope=row>2layhid1.to.dividend</th><td>-25.623076887</td></tr>\n",
       "</tbody>\n",
       "</table>\n"
      ],
      "text/latex": [
       "A matrix: 20 × 1 of type dbl\n",
       "\\begin{tabular}{r|l}\n",
       "\terror &   0.509796456\\\\\n",
       "\treached.threshold &   0.008677528\\\\\n",
       "\tsteps & 560.000000000\\\\\n",
       "\tIntercept.to.1layhid1 &   1.417229546\\\\\n",
       "\tfcfps.to.1layhid1 &  -2.057312420\\\\\n",
       "\tearnings\\_growth.to.1layhid1 &   0.543310736\\\\\n",
       "\tde.to.1layhid1 &   0.816817777\\\\\n",
       "\tmcap.to.1layhid1 &  -5.366661798\\\\\n",
       "\tcurrent\\_ratio.to.1layhid1 &  -0.652381891\\\\\n",
       "\tIntercept.to.1layhid2 &   2.824504644\\\\\n",
       "\tfcfps.to.1layhid2 &  -2.975473092\\\\\n",
       "\tearnings\\_growth.to.1layhid2 &  -4.341368774\\\\\n",
       "\tde.to.1layhid2 &   3.655652350\\\\\n",
       "\tmcap.to.1layhid2 &  -3.197997255\\\\\n",
       "\tcurrent\\_ratio.to.1layhid2 &  -2.509617042\\\\\n",
       "\tIntercept.to.2layhid1 &  -3.699640078\\\\\n",
       "\t1layhid1.to.2layhid1 &  15.491920437\\\\\n",
       "\t1layhid2.to.2layhid1 &   8.625380348\\\\\n",
       "\tIntercept.to.dividend &  11.550307107\\\\\n",
       "\t2layhid1.to.dividend & -25.623076887\\\\\n",
       "\\end{tabular}\n"
      ],
      "text/markdown": [
       "\n",
       "A matrix: 20 × 1 of type dbl\n",
       "\n",
       "| error |   0.509796456 |\n",
       "| reached.threshold |   0.008677528 |\n",
       "| steps | 560.000000000 |\n",
       "| Intercept.to.1layhid1 |   1.417229546 |\n",
       "| fcfps.to.1layhid1 |  -2.057312420 |\n",
       "| earnings_growth.to.1layhid1 |   0.543310736 |\n",
       "| de.to.1layhid1 |   0.816817777 |\n",
       "| mcap.to.1layhid1 |  -5.366661798 |\n",
       "| current_ratio.to.1layhid1 |  -0.652381891 |\n",
       "| Intercept.to.1layhid2 |   2.824504644 |\n",
       "| fcfps.to.1layhid2 |  -2.975473092 |\n",
       "| earnings_growth.to.1layhid2 |  -4.341368774 |\n",
       "| de.to.1layhid2 |   3.655652350 |\n",
       "| mcap.to.1layhid2 |  -3.197997255 |\n",
       "| current_ratio.to.1layhid2 |  -2.509617042 |\n",
       "| Intercept.to.2layhid1 |  -3.699640078 |\n",
       "| 1layhid1.to.2layhid1 |  15.491920437 |\n",
       "| 1layhid2.to.2layhid1 |   8.625380348 |\n",
       "| Intercept.to.dividend |  11.550307107 |\n",
       "| 2layhid1.to.dividend | -25.623076887 |\n",
       "\n"
      ],
      "text/plain": [
       "                            [,1]         \n",
       "error                         0.509796456\n",
       "reached.threshold             0.008677528\n",
       "steps                       560.000000000\n",
       "Intercept.to.1layhid1         1.417229546\n",
       "fcfps.to.1layhid1            -2.057312420\n",
       "earnings_growth.to.1layhid1   0.543310736\n",
       "de.to.1layhid1                0.816817777\n",
       "mcap.to.1layhid1             -5.366661798\n",
       "current_ratio.to.1layhid1    -0.652381891\n",
       "Intercept.to.1layhid2         2.824504644\n",
       "fcfps.to.1layhid2            -2.975473092\n",
       "earnings_growth.to.1layhid2  -4.341368774\n",
       "de.to.1layhid2                3.655652350\n",
       "mcap.to.1layhid2             -3.197997255\n",
       "current_ratio.to.1layhid2    -2.509617042\n",
       "Intercept.to.2layhid1        -3.699640078\n",
       "1layhid1.to.2layhid1         15.491920437\n",
       "1layhid2.to.2layhid1          8.625380348\n",
       "Intercept.to.dividend        11.550307107\n",
       "2layhid1.to.dividend        -25.623076887"
      ]
     },
     "metadata": {},
     "output_type": "display_data"
    }
   ],
   "source": [
    "# Generate the error of the neural network and the weights between the\n",
    "# inputs, hidden layers, and outputs\n",
    "nn$result.matrix"
   ]
  },
  {
   "cell_type": "markdown",
   "id": "337daf83",
   "metadata": {
    "papermill": {
     "duration": 0.017213,
     "end_time": "2025-01-01T05:31:36.037602",
     "exception": false,
     "start_time": "2025-01-01T05:31:36.020389",
     "status": "completed"
    },
    "tags": []
   },
   "source": [
    "The output represents the result matrix of the neural network model **(nn$result.matrix)**. Here is the matrix representation:\n",
    "* **Error:** The error value of the neural network model. It indicates how well the model fits the training data. Lower error values generally indicate better performance.\n",
    "* **Reached Threshold:** Indicates whether the optimization algorithm reached the specified threshold.\n",
    "* **Steps:** "
   ]
  },
  {
   "cell_type": "code",
   "execution_count": 25,
   "id": "f91692ea",
   "metadata": {
    "execution": {
     "iopub.execute_input": "2025-01-01T05:31:36.070733Z",
     "iopub.status.busy": "2025-01-01T05:31:36.068855Z",
     "iopub.status.idle": "2025-01-01T05:31:36.274595Z",
     "shell.execute_reply": "2025-01-01T05:31:36.271533Z"
    },
    "papermill": {
     "duration": 0.226233,
     "end_time": "2025-01-01T05:31:36.278625",
     "exception": false,
     "start_time": "2025-01-01T05:31:36.052392",
     "status": "completed"
    },
    "tags": []
   },
   "outputs": [
    {
     "data": {
      "image/png": "[encoded data removed]"
     },
     "metadata": {
      "image/png": {
       "height": 360,
       "width": 720
      }
     },
     "output_type": "display_data"
    }
   ],
   "source": [
    "# Plot the neural network\n",
    "plot(nn, rep = \"best\", mar = c(5, 10, 4, 2) + 0.5)"
   ]
  },
  {
   "cell_type": "code",
   "execution_count": 26,
   "id": "e1d84b0a",
   "metadata": {
    "execution": {
     "iopub.execute_input": "2025-01-01T05:31:36.317349Z",
     "iopub.status.busy": "2025-01-01T05:31:36.315678Z",
     "iopub.status.idle": "2025-01-01T05:31:36.346650Z",
     "shell.execute_reply": "2025-01-01T05:31:36.344181Z"
    },
    "papermill": {
     "duration": 0.053,
     "end_time": "2025-01-01T05:31:36.349664",
     "exception": false,
     "start_time": "2025-01-01T05:31:36.296664",
     "status": "completed"
    },
    "tags": []
   },
   "outputs": [
    {
     "data": {
      "text/html": [
       "<table class=\"dataframe\">\n",
       "<caption>A data.frame: 6 × 5</caption>\n",
       "<thead>\n",
       "\t<tr><th></th><th scope=col>fcfps</th><th scope=col>earnings_growth</th><th scope=col>de</th><th scope=col>mcap</th><th scope=col>current_ratio</th></tr>\n",
       "\t<tr><th></th><th scope=col>&lt;dbl&gt;</th><th scope=col>&lt;dbl&gt;</th><th scope=col>&lt;dbl&gt;</th><th scope=col>&lt;dbl&gt;</th><th scope=col>&lt;dbl&gt;</th></tr>\n",
       "</thead>\n",
       "<tbody>\n",
       "\t<tr><th scope=row>1</th><td>0.57142857</td><td>0.0000000</td><td>0.26717557</td><td>0.9384289</td><td>0.3248896</td></tr>\n",
       "\t<tr><th scope=row>2</th><td>0.57782516</td><td>0.3427127</td><td>0.03307888</td><td>0.9745223</td><td>0.6952753</td></tr>\n",
       "\t<tr><th scope=row>3</th><td>0.07675906</td><td>0.5428812</td><td>0.41730280</td><td>0.6050955</td><td>0.6833458</td></tr>\n",
       "\t<tr><th scope=row>5</th><td>0.93603412</td><td>0.7199663</td><td>0.83206107</td><td>0.4819533</td><td>0.9902471</td></tr>\n",
       "\t<tr><th scope=row>9</th><td>0.21108742</td><td>0.7366470</td><td>0.45292621</td><td>0.1061571</td><td>0.6492616</td></tr>\n",
       "\t<tr><th scope=row>10</th><td>0.65884861</td><td>0.7346251</td><td>0.70229008</td><td>0.6539278</td><td>0.4971687</td></tr>\n",
       "</tbody>\n",
       "</table>\n"
      ],
      "text/latex": [
       "A data.frame: 6 × 5\n",
       "\\begin{tabular}{r|lllll}\n",
       "  & fcfps & earnings\\_growth & de & mcap & current\\_ratio\\\\\n",
       "  & <dbl> & <dbl> & <dbl> & <dbl> & <dbl>\\\\\n",
       "\\hline\n",
       "\t1 & 0.57142857 & 0.0000000 & 0.26717557 & 0.9384289 & 0.3248896\\\\\n",
       "\t2 & 0.57782516 & 0.3427127 & 0.03307888 & 0.9745223 & 0.6952753\\\\\n",
       "\t3 & 0.07675906 & 0.5428812 & 0.41730280 & 0.6050955 & 0.6833458\\\\\n",
       "\t5 & 0.93603412 & 0.7199663 & 0.83206107 & 0.4819533 & 0.9902471\\\\\n",
       "\t9 & 0.21108742 & 0.7366470 & 0.45292621 & 0.1061571 & 0.6492616\\\\\n",
       "\t10 & 0.65884861 & 0.7346251 & 0.70229008 & 0.6539278 & 0.4971687\\\\\n",
       "\\end{tabular}\n"
      ],
      "text/markdown": [
       "\n",
       "A data.frame: 6 × 5\n",
       "\n",
       "| <!--/--> | fcfps &lt;dbl&gt; | earnings_growth &lt;dbl&gt; | de &lt;dbl&gt; | mcap &lt;dbl&gt; | current_ratio &lt;dbl&gt; |\n",
       "|---|---|---|---|---|---|\n",
       "| 1 | 0.57142857 | 0.0000000 | 0.26717557 | 0.9384289 | 0.3248896 |\n",
       "| 2 | 0.57782516 | 0.3427127 | 0.03307888 | 0.9745223 | 0.6952753 |\n",
       "| 3 | 0.07675906 | 0.5428812 | 0.41730280 | 0.6050955 | 0.6833458 |\n",
       "| 5 | 0.93603412 | 0.7199663 | 0.83206107 | 0.4819533 | 0.9902471 |\n",
       "| 9 | 0.21108742 | 0.7366470 | 0.45292621 | 0.1061571 | 0.6492616 |\n",
       "| 10 | 0.65884861 | 0.7346251 | 0.70229008 | 0.6539278 | 0.4971687 |\n",
       "\n"
      ],
      "text/plain": [
       "   fcfps      earnings_growth de         mcap      current_ratio\n",
       "1  0.57142857 0.0000000       0.26717557 0.9384289 0.3248896    \n",
       "2  0.57782516 0.3427127       0.03307888 0.9745223 0.6952753    \n",
       "3  0.07675906 0.5428812       0.41730280 0.6050955 0.6833458    \n",
       "5  0.93603412 0.7199663       0.83206107 0.4819533 0.9902471    \n",
       "9  0.21108742 0.7366470       0.45292621 0.1061571 0.6492616    \n",
       "10 0.65884861 0.7346251       0.70229008 0.6539278 0.4971687    "
      ]
     },
     "metadata": {},
     "output_type": "display_data"
    }
   ],
   "source": [
    "#Test the resulting output using the test data\n",
    "# Subset the testing data to remove the dependent variable\n",
    "temp_test <- subset(testing.data, select = c(\"fcfps\", \"earnings_growth\", \"de\", \"mcap\", \"current_ratio\"))\n",
    "# Show the temporary (temp) testing data\n",
    "head(temp_test)"
   ]
  },
  {
   "cell_type": "code",
   "execution_count": 27,
   "id": "e1a4c6ae",
   "metadata": {
    "execution": {
     "iopub.execute_input": "2025-01-01T05:31:36.387145Z",
     "iopub.status.busy": "2025-01-01T05:31:36.384766Z",
     "iopub.status.idle": "2025-01-01T05:31:36.456718Z",
     "shell.execute_reply": "2025-01-01T05:31:36.454054Z"
    },
    "papermill": {
     "duration": 0.094087,
     "end_time": "2025-01-01T05:31:36.460074",
     "exception": false,
     "start_time": "2025-01-01T05:31:36.365987",
     "status": "completed"
    },
    "tags": []
   },
   "outputs": [
    {
     "data": {
      "text/html": [
       "<table class=\"dataframe\">\n",
       "<caption>A data.frame: 62 × 2</caption>\n",
       "<thead>\n",
       "\t<tr><th></th><th scope=col>actual</th><th scope=col>prediction</th></tr>\n",
       "\t<tr><th></th><th scope=col>&lt;dbl&gt;</th><th scope=col>&lt;dbl&gt;</th></tr>\n",
       "</thead>\n",
       "<tbody>\n",
       "\t<tr><th scope=row>1</th><td>0</td><td>9.998908e-01</td></tr>\n",
       "\t<tr><th scope=row>2</th><td>1</td><td>9.999805e-01</td></tr>\n",
       "\t<tr><th scope=row>3</th><td>0</td><td>7.370089e-01</td></tr>\n",
       "\t<tr><th scope=row>5</th><td>1</td><td>9.999386e-01</td></tr>\n",
       "\t<tr><th scope=row>9</th><td>0</td><td>7.765365e-07</td></tr>\n",
       "\t<tr><th scope=row>10</th><td>1</td><td>9.999246e-01</td></tr>\n",
       "\t<tr><th scope=row>11</th><td>1</td><td>9.999695e-01</td></tr>\n",
       "\t<tr><th scope=row>15</th><td>0</td><td>7.731715e-07</td></tr>\n",
       "\t<tr><th scope=row>18</th><td>1</td><td>9.982840e-01</td></tr>\n",
       "\t<tr><th scope=row>19</th><td>1</td><td>9.999463e-01</td></tr>\n",
       "\t<tr><th scope=row>20</th><td>1</td><td>9.999796e-01</td></tr>\n",
       "\t<tr><th scope=row>24</th><td>0</td><td>7.731948e-07</td></tr>\n",
       "\t<tr><th scope=row>28</th><td>0</td><td>8.912284e-07</td></tr>\n",
       "\t<tr><th scope=row>29</th><td>0</td><td>1.646404e-06</td></tr>\n",
       "\t<tr><th scope=row>33</th><td>1</td><td>9.999504e-01</td></tr>\n",
       "\t<tr><th scope=row>36</th><td>1</td><td>9.987621e-01</td></tr>\n",
       "\t<tr><th scope=row>42</th><td>1</td><td>9.999775e-01</td></tr>\n",
       "\t<tr><th scope=row>44</th><td>0</td><td>7.743674e-07</td></tr>\n",
       "\t<tr><th scope=row>45</th><td>0</td><td>7.732496e-07</td></tr>\n",
       "\t<tr><th scope=row>48</th><td>0</td><td>9.555371e-07</td></tr>\n",
       "\t<tr><th scope=row>49</th><td>1</td><td>9.999787e-01</td></tr>\n",
       "\t<tr><th scope=row>54</th><td>1</td><td>9.999658e-01</td></tr>\n",
       "\t<tr><th scope=row>55</th><td>0</td><td>7.731785e-07</td></tr>\n",
       "\t<tr><th scope=row>56</th><td>1</td><td>9.983662e-01</td></tr>\n",
       "\t<tr><th scope=row>57</th><td>1</td><td>9.999486e-01</td></tr>\n",
       "\t<tr><th scope=row>58</th><td>0</td><td>8.359482e-07</td></tr>\n",
       "\t<tr><th scope=row>59</th><td>0</td><td>7.748953e-07</td></tr>\n",
       "\t<tr><th scope=row>61</th><td>0</td><td>9.848890e-01</td></tr>\n",
       "\t<tr><th scope=row>65</th><td>0</td><td>9.979774e-01</td></tr>\n",
       "\t<tr><th scope=row>66</th><td>0</td><td>7.788988e-07</td></tr>\n",
       "\t<tr><th scope=row>⋮</th><td>⋮</td><td>⋮</td></tr>\n",
       "\t<tr><th scope=row>73</th><td>0</td><td>7.788123e-07</td></tr>\n",
       "\t<tr><th scope=row>75</th><td>1</td><td>9.999734e-01</td></tr>\n",
       "\t<tr><th scope=row>77</th><td>0</td><td>7.783204e-07</td></tr>\n",
       "\t<tr><th scope=row>80</th><td>0</td><td>8.708291e-07</td></tr>\n",
       "\t<tr><th scope=row>83</th><td>1</td><td>9.999727e-01</td></tr>\n",
       "\t<tr><th scope=row>84</th><td>1</td><td>9.999694e-01</td></tr>\n",
       "\t<tr><th scope=row>87</th><td>0</td><td>9.998631e-01</td></tr>\n",
       "\t<tr><th scope=row>88</th><td>0</td><td>9.998704e-01</td></tr>\n",
       "\t<tr><th scope=row>98</th><td>1</td><td>9.999806e-01</td></tr>\n",
       "\t<tr><th scope=row>101</th><td>0</td><td>8.544270e-07</td></tr>\n",
       "\t<tr><th scope=row>104</th><td>1</td><td>9.999295e-01</td></tr>\n",
       "\t<tr><th scope=row>105</th><td>0</td><td>7.731766e-07</td></tr>\n",
       "\t<tr><th scope=row>106</th><td>0</td><td>7.777915e-07</td></tr>\n",
       "\t<tr><th scope=row>107</th><td>1</td><td>9.999804e-01</td></tr>\n",
       "\t<tr><th scope=row>110</th><td>0</td><td>9.925234e-01</td></tr>\n",
       "\t<tr><th scope=row>111</th><td>0</td><td>9.991502e-01</td></tr>\n",
       "\t<tr><th scope=row>113</th><td>1</td><td>9.996055e-01</td></tr>\n",
       "\t<tr><th scope=row>114</th><td>0</td><td>7.767880e-07</td></tr>\n",
       "\t<tr><th scope=row>119</th><td>0</td><td>7.744727e-07</td></tr>\n",
       "\t<tr><th scope=row>121</th><td>0</td><td>3.220047e-06</td></tr>\n",
       "\t<tr><th scope=row>122</th><td>0</td><td>8.569968e-07</td></tr>\n",
       "\t<tr><th scope=row>123</th><td>1</td><td>9.999586e-01</td></tr>\n",
       "\t<tr><th scope=row>124</th><td>0</td><td>8.608644e-07</td></tr>\n",
       "\t<tr><th scope=row>129</th><td>0</td><td>7.747827e-07</td></tr>\n",
       "\t<tr><th scope=row>131</th><td>0</td><td>7.763144e-07</td></tr>\n",
       "\t<tr><th scope=row>134</th><td>0</td><td>6.316050e-01</td></tr>\n",
       "\t<tr><th scope=row>135</th><td>0</td><td>7.761915e-07</td></tr>\n",
       "\t<tr><th scope=row>136</th><td>0</td><td>7.732607e-07</td></tr>\n",
       "\t<tr><th scope=row>141</th><td>1</td><td>9.999681e-01</td></tr>\n",
       "\t<tr><th scope=row>143</th><td>1</td><td>9.999775e-01</td></tr>\n",
       "</tbody>\n",
       "</table>\n"
      ],
      "text/latex": [
       "A data.frame: 62 × 2\n",
       "\\begin{tabular}{r|ll}\n",
       "  & actual & prediction\\\\\n",
       "  & <dbl> & <dbl>\\\\\n",
       "\\hline\n",
       "\t1 & 0 & 9.998908e-01\\\\\n",
       "\t2 & 1 & 9.999805e-01\\\\\n",
       "\t3 & 0 & 7.370089e-01\\\\\n",
       "\t5 & 1 & 9.999386e-01\\\\\n",
       "\t9 & 0 & 7.765365e-07\\\\\n",
       "\t10 & 1 & 9.999246e-01\\\\\n",
       "\t11 & 1 & 9.999695e-01\\\\\n",
       "\t15 & 0 & 7.731715e-07\\\\\n",
       "\t18 & 1 & 9.982840e-01\\\\\n",
       "\t19 & 1 & 9.999463e-01\\\\\n",
       "\t20 & 1 & 9.999796e-01\\\\\n",
       "\t24 & 0 & 7.731948e-07\\\\\n",
       "\t28 & 0 & 8.912284e-07\\\\\n",
       "\t29 & 0 & 1.646404e-06\\\\\n",
       "\t33 & 1 & 9.999504e-01\\\\\n",
       "\t36 & 1 & 9.987621e-01\\\\\n",
       "\t42 & 1 & 9.999775e-01\\\\\n",
       "\t44 & 0 & 7.743674e-07\\\\\n",
       "\t45 & 0 & 7.732496e-07\\\\\n",
       "\t48 & 0 & 9.555371e-07\\\\\n",
       "\t49 & 1 & 9.999787e-01\\\\\n",
       "\t54 & 1 & 9.999658e-01\\\\\n",
       "\t55 & 0 & 7.731785e-07\\\\\n",
       "\t56 & 1 & 9.983662e-01\\\\\n",
       "\t57 & 1 & 9.999486e-01\\\\\n",
       "\t58 & 0 & 8.359482e-07\\\\\n",
       "\t59 & 0 & 7.748953e-07\\\\\n",
       "\t61 & 0 & 9.848890e-01\\\\\n",
       "\t65 & 0 & 9.979774e-01\\\\\n",
       "\t66 & 0 & 7.788988e-07\\\\\n",
       "\t⋮ & ⋮ & ⋮\\\\\n",
       "\t73 & 0 & 7.788123e-07\\\\\n",
       "\t75 & 1 & 9.999734e-01\\\\\n",
       "\t77 & 0 & 7.783204e-07\\\\\n",
       "\t80 & 0 & 8.708291e-07\\\\\n",
       "\t83 & 1 & 9.999727e-01\\\\\n",
       "\t84 & 1 & 9.999694e-01\\\\\n",
       "\t87 & 0 & 9.998631e-01\\\\\n",
       "\t88 & 0 & 9.998704e-01\\\\\n",
       "\t98 & 1 & 9.999806e-01\\\\\n",
       "\t101 & 0 & 8.544270e-07\\\\\n",
       "\t104 & 1 & 9.999295e-01\\\\\n",
       "\t105 & 0 & 7.731766e-07\\\\\n",
       "\t106 & 0 & 7.777915e-07\\\\\n",
       "\t107 & 1 & 9.999804e-01\\\\\n",
       "\t110 & 0 & 9.925234e-01\\\\\n",
       "\t111 & 0 & 9.991502e-01\\\\\n",
       "\t113 & 1 & 9.996055e-01\\\\\n",
       "\t114 & 0 & 7.767880e-07\\\\\n",
       "\t119 & 0 & 7.744727e-07\\\\\n",
       "\t121 & 0 & 3.220047e-06\\\\\n",
       "\t122 & 0 & 8.569968e-07\\\\\n",
       "\t123 & 1 & 9.999586e-01\\\\\n",
       "\t124 & 0 & 8.608644e-07\\\\\n",
       "\t129 & 0 & 7.747827e-07\\\\\n",
       "\t131 & 0 & 7.763144e-07\\\\\n",
       "\t134 & 0 & 6.316050e-01\\\\\n",
       "\t135 & 0 & 7.761915e-07\\\\\n",
       "\t136 & 0 & 7.732607e-07\\\\\n",
       "\t141 & 1 & 9.999681e-01\\\\\n",
       "\t143 & 1 & 9.999775e-01\\\\\n",
       "\\end{tabular}\n"
      ],
      "text/markdown": [
       "\n",
       "A data.frame: 62 × 2\n",
       "\n",
       "| <!--/--> | actual &lt;dbl&gt; | prediction &lt;dbl&gt; |\n",
       "|---|---|---|\n",
       "| 1 | 0 | 9.998908e-01 |\n",
       "| 2 | 1 | 9.999805e-01 |\n",
       "| 3 | 0 | 7.370089e-01 |\n",
       "| 5 | 1 | 9.999386e-01 |\n",
       "| 9 | 0 | 7.765365e-07 |\n",
       "| 10 | 1 | 9.999246e-01 |\n",
       "| 11 | 1 | 9.999695e-01 |\n",
       "| 15 | 0 | 7.731715e-07 |\n",
       "| 18 | 1 | 9.982840e-01 |\n",
       "| 19 | 1 | 9.999463e-01 |\n",
       "| 20 | 1 | 9.999796e-01 |\n",
       "| 24 | 0 | 7.731948e-07 |\n",
       "| 28 | 0 | 8.912284e-07 |\n",
       "| 29 | 0 | 1.646404e-06 |\n",
       "| 33 | 1 | 9.999504e-01 |\n",
       "| 36 | 1 | 9.987621e-01 |\n",
       "| 42 | 1 | 9.999775e-01 |\n",
       "| 44 | 0 | 7.743674e-07 |\n",
       "| 45 | 0 | 7.732496e-07 |\n",
       "| 48 | 0 | 9.555371e-07 |\n",
       "| 49 | 1 | 9.999787e-01 |\n",
       "| 54 | 1 | 9.999658e-01 |\n",
       "| 55 | 0 | 7.731785e-07 |\n",
       "| 56 | 1 | 9.983662e-01 |\n",
       "| 57 | 1 | 9.999486e-01 |\n",
       "| 58 | 0 | 8.359482e-07 |\n",
       "| 59 | 0 | 7.748953e-07 |\n",
       "| 61 | 0 | 9.848890e-01 |\n",
       "| 65 | 0 | 9.979774e-01 |\n",
       "| 66 | 0 | 7.788988e-07 |\n",
       "| ⋮ | ⋮ | ⋮ |\n",
       "| 73 | 0 | 7.788123e-07 |\n",
       "| 75 | 1 | 9.999734e-01 |\n",
       "| 77 | 0 | 7.783204e-07 |\n",
       "| 80 | 0 | 8.708291e-07 |\n",
       "| 83 | 1 | 9.999727e-01 |\n",
       "| 84 | 1 | 9.999694e-01 |\n",
       "| 87 | 0 | 9.998631e-01 |\n",
       "| 88 | 0 | 9.998704e-01 |\n",
       "| 98 | 1 | 9.999806e-01 |\n",
       "| 101 | 0 | 8.544270e-07 |\n",
       "| 104 | 1 | 9.999295e-01 |\n",
       "| 105 | 0 | 7.731766e-07 |\n",
       "| 106 | 0 | 7.777915e-07 |\n",
       "| 107 | 1 | 9.999804e-01 |\n",
       "| 110 | 0 | 9.925234e-01 |\n",
       "| 111 | 0 | 9.991502e-01 |\n",
       "| 113 | 1 | 9.996055e-01 |\n",
       "| 114 | 0 | 7.767880e-07 |\n",
       "| 119 | 0 | 7.744727e-07 |\n",
       "| 121 | 0 | 3.220047e-06 |\n",
       "| 122 | 0 | 8.569968e-07 |\n",
       "| 123 | 1 | 9.999586e-01 |\n",
       "| 124 | 0 | 8.608644e-07 |\n",
       "| 129 | 0 | 7.747827e-07 |\n",
       "| 131 | 0 | 7.763144e-07 |\n",
       "| 134 | 0 | 6.316050e-01 |\n",
       "| 135 | 0 | 7.761915e-07 |\n",
       "| 136 | 0 | 7.732607e-07 |\n",
       "| 141 | 1 | 9.999681e-01 |\n",
       "| 143 | 1 | 9.999775e-01 |\n",
       "\n"
      ],
      "text/plain": [
       "    actual prediction  \n",
       "1   0      9.998908e-01\n",
       "2   1      9.999805e-01\n",
       "3   0      7.370089e-01\n",
       "5   1      9.999386e-01\n",
       "9   0      7.765365e-07\n",
       "10  1      9.999246e-01\n",
       "11  1      9.999695e-01\n",
       "15  0      7.731715e-07\n",
       "18  1      9.982840e-01\n",
       "19  1      9.999463e-01\n",
       "20  1      9.999796e-01\n",
       "24  0      7.731948e-07\n",
       "28  0      8.912284e-07\n",
       "29  0      1.646404e-06\n",
       "33  1      9.999504e-01\n",
       "36  1      9.987621e-01\n",
       "42  1      9.999775e-01\n",
       "44  0      7.743674e-07\n",
       "45  0      7.732496e-07\n",
       "48  0      9.555371e-07\n",
       "49  1      9.999787e-01\n",
       "54  1      9.999658e-01\n",
       "55  0      7.731785e-07\n",
       "56  1      9.983662e-01\n",
       "57  1      9.999486e-01\n",
       "58  0      8.359482e-07\n",
       "59  0      7.748953e-07\n",
       "61  0      9.848890e-01\n",
       "65  0      9.979774e-01\n",
       "66  0      7.788988e-07\n",
       "⋮   ⋮      ⋮           \n",
       "73  0      7.788123e-07\n",
       "75  1      9.999734e-01\n",
       "77  0      7.783204e-07\n",
       "80  0      8.708291e-07\n",
       "83  1      9.999727e-01\n",
       "84  1      9.999694e-01\n",
       "87  0      9.998631e-01\n",
       "88  0      9.998704e-01\n",
       "98  1      9.999806e-01\n",
       "101 0      8.544270e-07\n",
       "104 1      9.999295e-01\n",
       "105 0      7.731766e-07\n",
       "106 0      7.777915e-07\n",
       "107 1      9.999804e-01\n",
       "110 0      9.925234e-01\n",
       "111 0      9.991502e-01\n",
       "113 1      9.996055e-01\n",
       "114 0      7.767880e-07\n",
       "119 0      7.744727e-07\n",
       "121 0      3.220047e-06\n",
       "122 0      8.569968e-07\n",
       "123 1      9.999586e-01\n",
       "124 0      8.608644e-07\n",
       "129 0      7.747827e-07\n",
       "131 0      7.763144e-07\n",
       "134 0      6.316050e-01\n",
       "135 0      7.761915e-07\n",
       "136 0      7.732607e-07\n",
       "141 1      9.999681e-01\n",
       "143 1      9.999775e-01"
      ]
     },
     "metadata": {},
     "output_type": "display_data"
    }
   ],
   "source": [
    "# Use the compute() function to create the prediction variable\n",
    "nn.results <- compute(nn, temp_test)\n",
    "# Compare the predicted data to the actual data\n",
    "results <- data.frame(actual = testing.data$dividend, prediction = nn.results$net.result)\n",
    "# Show the comparison of the actual to the predicted values\n",
    "results"
   ]
  },
  {
   "cell_type": "markdown",
   "id": "a281c64e",
   "metadata": {
    "papermill": {
     "duration": 0.016835,
     "end_time": "2025-01-01T05:31:36.494184",
     "exception": false,
     "start_time": "2025-01-01T05:31:36.477349",
     "status": "completed"
    },
    "tags": []
   },
   "source": [
    "## **Evaluation**\n",
    "\n",
    "### **Evaluate Model Performance**\n",
    "Since we are evaluating Neural Network Model, we will focus on **Accuracy**, **Confusion Matrix**, **Recall (Sensitivity)**, **Precision**, **F1 Score**, and **Receiver Operating Characteristic (ROC) Curve**.\n",
    "* **Accuracy:** Accuracy measures the proportion of correctly classified observations out of the total number of observations. While accuracy provides a general measure of model performance, it may not be suitable for imbalanced datasets where one class dominates the other.\n",
    "* **Confusion Matrix:** A confusion matrix provides a more detailed breakdown of correct and incorrect classifications. It consists of four components: true positives (TP), true negatives (TN), false positives (FP), and false negatives (FN). Various metrics can be derived from the confusion matrix, including sensitivity, specificity, precision, and F1-score.\n",
    "* **Recall (Sensitivity):** Recall measures the proportion of actual positive cases the model correctly identifies. It indicates the model's ability to detect the positive class. Recall is important when the cost of false negatives is high.\n",
    "* **Precision:** Precision measures the proportion of true positive cases among all predicted positive cases. It represents the model's accuracy in predicting positive cases. Precision is instrumental when the cost of false positives is high.\n",
    "* **F1-Score:** The F1-score is the harmonic mean of precision and recall (sensitivity). It provides a balanced measure of the model's performance, especially in the presence of class imbalance.\n",
    "* **Receiver Operating Characteristic (ROC) Curve:** The ROC curve represents the trade-off between sensitivity and specificity across different thresholds. The area under the ROC curve (AUC-ROC) is a commonly used metric that quantifies the model's overall performance, with higher values indicating better discrimination ability."
   ]
  },
  {
   "cell_type": "markdown",
   "id": "e322371e",
   "metadata": {
    "papermill": {
     "duration": 0.016606,
     "end_time": "2025-01-01T05:31:36.527428",
     "exception": false,
     "start_time": "2025-01-01T05:31:36.510822",
     "status": "completed"
    },
    "tags": []
   },
   "source": [
    "### **Accuracy**"
   ]
  },
  {
   "cell_type": "code",
   "execution_count": 28,
   "id": "139cc587",
   "metadata": {
    "execution": {
     "iopub.execute_input": "2025-01-01T05:31:36.564263Z",
     "iopub.status.busy": "2025-01-01T05:31:36.562691Z",
     "iopub.status.idle": "2025-01-01T05:31:36.584133Z",
     "shell.execute_reply": "2025-01-01T05:31:36.581959Z"
    },
    "papermill": {
     "duration": 0.04317,
     "end_time": "2025-01-01T05:31:36.587200",
     "exception": false,
     "start_time": "2025-01-01T05:31:36.544030",
     "status": "completed"
    },
    "tags": []
   },
   "outputs": [
    {
     "name": "stdout",
     "output_type": "stream",
     "text": [
      "Accuracy: 0.8387"
     ]
    }
   ],
   "source": [
    "# Calculate accuracy\n",
    "# Convert the predicted values to binary classes (0 or 1) based on a threshold\n",
    "predicted_classes <- ifelse(nn.results$net.result > 0.5, 1, 0)\n",
    "# Compute accuracy\n",
    "accuracy <- mean(predicted_classes == testing.data$dividend)\n",
    "cat(\"Accuracy:\", round(accuracy, 4))"
   ]
  },
  {
   "cell_type": "markdown",
   "id": "a7e34c9f",
   "metadata": {
    "papermill": {
     "duration": 0.016776,
     "end_time": "2025-01-01T05:31:36.620600",
     "exception": false,
     "start_time": "2025-01-01T05:31:36.603824",
     "status": "completed"
    },
    "tags": []
   },
   "source": [
    "### **Confusion Matrix**"
   ]
  },
  {
   "cell_type": "code",
   "execution_count": 29,
   "id": "439ca3dd",
   "metadata": {
    "execution": {
     "iopub.execute_input": "2025-01-01T05:31:36.658554Z",
     "iopub.status.busy": "2025-01-01T05:31:36.656730Z",
     "iopub.status.idle": "2025-01-01T05:31:36.677887Z",
     "shell.execute_reply": "2025-01-01T05:31:36.675634Z"
    },
    "papermill": {
     "duration": 0.043815,
     "end_time": "2025-01-01T05:31:36.681079",
     "exception": false,
     "start_time": "2025-01-01T05:31:36.637264",
     "status": "completed"
    },
    "tags": []
   },
   "outputs": [
    {
     "data": {
      "text/plain": [
       "   predicted_classes\n",
       "     0  1\n",
       "  0 28 10\n",
       "  1  0 24"
      ]
     },
     "metadata": {},
     "output_type": "display_data"
    }
   ],
   "source": [
    "# Create the confusion matrix\n",
    "conf_matrix <- table(testing.data$dividend, predicted_classes)\n",
    "conf_matrix"
   ]
  },
  {
   "cell_type": "markdown",
   "id": "781198fb",
   "metadata": {
    "papermill": {
     "duration": 0.018953,
     "end_time": "2025-01-01T05:31:36.717631",
     "exception": false,
     "start_time": "2025-01-01T05:31:36.698678",
     "status": "completed"
    },
    "tags": []
   },
   "source": [
    "### **Recall (Sensitivity)**"
   ]
  },
  {
   "cell_type": "code",
   "execution_count": 30,
   "id": "ff041cb0",
   "metadata": {
    "execution": {
     "iopub.execute_input": "2025-01-01T05:31:36.755216Z",
     "iopub.status.busy": "2025-01-01T05:31:36.753596Z",
     "iopub.status.idle": "2025-01-01T05:31:36.777234Z",
     "shell.execute_reply": "2025-01-01T05:31:36.775017Z"
    },
    "papermill": {
     "duration": 0.045713,
     "end_time": "2025-01-01T05:31:36.780381",
     "exception": false,
     "start_time": "2025-01-01T05:31:36.734668",
     "status": "completed"
    },
    "tags": []
   },
   "outputs": [
    {
     "name": "stdout",
     "output_type": "stream",
     "text": [
      "Recall (Sensitivity): 1"
     ]
    }
   ],
   "source": [
    "# Calculate recall (sensitivity)\n",
    "# True positives: predicted dividend and actual dividend\n",
    "true_positives <- sum(predicted_classes == 1 & testing.data$dividend == 1)\n",
    "# False negatives: actual dividend but not predicted as dividend\n",
    "false_negatives <- sum(predicted_classes == 0 & testing.data$dividend == 1)\n",
    "# Recall = True Positives / (True Positives + False Negatives)\n",
    "recall <- true_positives / (true_positives + false_negatives)\n",
    "cat(\"Recall (Sensitivity):\", recall)"
   ]
  },
  {
   "cell_type": "markdown",
   "id": "1c40b4c9",
   "metadata": {
    "papermill": {
     "duration": 0.017583,
     "end_time": "2025-01-01T05:31:36.816822",
     "exception": false,
     "start_time": "2025-01-01T05:31:36.799239",
     "status": "completed"
    },
    "tags": []
   },
   "source": [
    "### **Precision**"
   ]
  },
  {
   "cell_type": "code",
   "execution_count": 31,
   "id": "2901c891",
   "metadata": {
    "execution": {
     "iopub.execute_input": "2025-01-01T05:31:36.856545Z",
     "iopub.status.busy": "2025-01-01T05:31:36.854475Z",
     "iopub.status.idle": "2025-01-01T05:31:36.884602Z",
     "shell.execute_reply": "2025-01-01T05:31:36.882403Z"
    },
    "papermill": {
     "duration": 0.054044,
     "end_time": "2025-01-01T05:31:36.888221",
     "exception": false,
     "start_time": "2025-01-01T05:31:36.834177",
     "status": "completed"
    },
    "tags": []
   },
   "outputs": [
    {
     "name": "stdout",
     "output_type": "stream",
     "text": [
      "Precision: 0.7059"
     ]
    }
   ],
   "source": [
    "# Calculate precision\n",
    "# True positives: predicted dividend and actual dividend\n",
    "true_positives <- sum(predicted_classes == 1 & testing.data$dividend == 1)\n",
    "# False positives: predicted dividend but not actual dividend\n",
    "false_positives <- sum(predicted_classes == 1 & testing.data$dividend == 0)\n",
    "# Precision = True Positives / (True Positives + False Positives)\n",
    "precision <- true_positives / (true_positives + false_positives)\n",
    "cat(\"Precision:\", round(precision, 4))"
   ]
  },
  {
   "cell_type": "markdown",
   "id": "a2fc89d8",
   "metadata": {
    "papermill": {
     "duration": 0.016939,
     "end_time": "2025-01-01T05:31:36.922627",
     "exception": false,
     "start_time": "2025-01-01T05:31:36.905688",
     "status": "completed"
    },
    "tags": []
   },
   "source": [
    "### **F1-Score**"
   ]
  },
  {
   "cell_type": "code",
   "execution_count": 32,
   "id": "1c88047a",
   "metadata": {
    "execution": {
     "iopub.execute_input": "2025-01-01T05:31:36.960342Z",
     "iopub.status.busy": "2025-01-01T05:31:36.958737Z",
     "iopub.status.idle": "2025-01-01T05:31:36.978541Z",
     "shell.execute_reply": "2025-01-01T05:31:36.976332Z"
    },
    "papermill": {
     "duration": 0.042278,
     "end_time": "2025-01-01T05:31:36.981881",
     "exception": false,
     "start_time": "2025-01-01T05:31:36.939603",
     "status": "completed"
    },
    "tags": []
   },
   "outputs": [
    {
     "name": "stdout",
     "output_type": "stream",
     "text": [
      "F1-score: 0.8276"
     ]
    }
   ],
   "source": [
    "# Calculate F1-score\n",
    "# F1-score = 2 * (Precision * Recall) / (Precision + Recall)\n",
    "f1_score <- 2 * (precision * recall) / (precision + recall)\n",
    "cat(\"F1-score:\", round(f1_score, 4))"
   ]
  },
  {
   "cell_type": "markdown",
   "id": "19187375",
   "metadata": {
    "papermill": {
     "duration": 0.017925,
     "end_time": "2025-01-01T05:31:37.017268",
     "exception": false,
     "start_time": "2025-01-01T05:31:36.999343",
     "status": "completed"
    },
    "tags": []
   },
   "source": [
    "### **Receiver Operating Characterist (ROC) Curve**"
   ]
  },
  {
   "cell_type": "code",
   "execution_count": 33,
   "id": "ee61e4bb",
   "metadata": {
    "execution": {
     "iopub.execute_input": "2025-01-01T05:31:37.055588Z",
     "iopub.status.busy": "2025-01-01T05:31:37.053956Z",
     "iopub.status.idle": "2025-01-01T05:31:37.191448Z",
     "shell.execute_reply": "2025-01-01T05:31:37.188562Z"
    },
    "papermill": {
     "duration": 0.16053,
     "end_time": "2025-01-01T05:31:37.194912",
     "exception": false,
     "start_time": "2025-01-01T05:31:37.034382",
     "status": "completed"
    },
    "tags": []
   },
   "outputs": [
    {
     "name": "stderr",
     "output_type": "stream",
     "text": [
      "Setting levels: control = 0, case = 1\n",
      "\n"
     ]
    },
    {
     "name": "stderr",
     "output_type": "stream",
     "text": [
      "Setting direction: controls < cases\n",
      "\n"
     ]
    },
    {
     "name": "stdout",
     "output_type": "stream",
     "text": [
      "AUC score: 0.9792"
     ]
    },
    {
     "data": {
      "image/png": "[encoded data removed]"
     },
     "metadata": {
      "image/png": {
       "height": 360,
       "width": 720
      }
     },
     "output_type": "display_data"
    }
   ],
   "source": [
    "# Calculate ROC curve and AUC\n",
    "# Extract predicted probabilities for class 1 (dividends)\n",
    "# Convert predicted probabilities to numeric vector\n",
    "predicted_probabilities <- as.numeric(nn.results$net.result)\n",
    "# Compute ROC curve\n",
    "roc_curve <- roc(testing.data$dividend, predicted_probabilities)\n",
    "# Plot ROC curve\n",
    "plot(roc_curve, main = \"ROC Curve\", col = \"blue\")\n",
    "abline(a = 0, b = 1, lty = 2, col = \"red\")  # Diagonal reference line\n",
    "# Calculate AUC\n",
    "auc_score <- auc(roc_curve)\n",
    "cat(\"AUC score:\", round(auc_score, 4))\n",
    "# Add AUC value to plot\n",
    "text(0.5, 0.5, paste(\"AUC =\", round(auc_score, 4)), adj = c(0.5, 0.5), cex = 1.5, col = \"black\")"
   ]
  },
  {
   "cell_type": "markdown",
   "id": "fa984e4d",
   "metadata": {
    "papermill": {
     "duration": 0.019202,
     "end_time": "2025-01-01T05:31:37.233684",
     "exception": false,
     "start_time": "2025-01-01T05:31:37.214482",
     "status": "completed"
    },
    "tags": []
   },
   "source": [
    "### **Model Evaluation Summary**\n",
    "The evaluation metrics of the neural network model for predicting stock dividends reveal strong performance:\n",
    "\n",
    "* **Accuracy:** The model achieves an accuracy of approximately 83.87%, highlighting its capability to make correct predictions in the majority of cases.\n",
    "* **Sensitivity (Recall):** A perfect score of 1.000 shows the model's excellence in identifying all positive cases (companies issuing dividends).\n",
    "* **Precision:** At 0.7059, the model demonstrates a high level of precision but leaves room for improvement to reduce false positives.\n",
    "* **F1-Score:** With an F1-score of 0.8276, the model strikes a good balance between precision and recall.\n",
    "* **AUC:** The AUC value of 0.9792 reflects excellent discriminatory power in distinguishing between positive and negative cases."
   ]
  },
  {
   "cell_type": "markdown",
   "id": "adb865f2",
   "metadata": {
    "papermill": {
     "duration": 0.018141,
     "end_time": "2025-01-01T05:31:37.269950",
     "exception": false,
     "start_time": "2025-01-01T05:31:37.251809",
     "status": "completed"
    },
    "tags": []
   },
   "source": [
    "## **Conclusion**\n",
    "* The model effectively predicts dividend outcomes, excelling in identifying positive cases (sensitivity) and overall classification performance (AUC).\n",
    "* There is an opportunity to enhance precision by refining the architecture and optimizing hyperparameters through backpropagation."
   ]
  }
 ],
 "metadata": {
  "kaggle": {
   "accelerator": "none",
   "dataSources": [
    {
     "datasetId": 5741255,
     "sourceId": 9446552,
     "sourceType": "datasetVersion"
    }
   ],
   "dockerImageVersionId": 30749,
   "isGpuEnabled": false,
   "isInternetEnabled": true,
   "language": "r",
   "sourceType": "notebook"
  },
  "kernelspec": {
   "display_name": "R",
   "language": "R",
   "name": "ir"
  },
  "language_info": {
   "codemirror_mode": "r",
   "file_extension": ".r",
   "mimetype": "text/x-r-source",
   "name": "R",
   "pygments_lexer": "r",
   "version": "4.4.0"
  },
  "papermill": {
   "default_parameters": {},
   "duration": 9.596094,
   "end_time": "2025-01-01T05:31:37.410829",
   "environment_variables": {},
   "exception": null,
   "input_path": "__notebook__.ipynb",
   "output_path": "__notebook__.ipynb",
   "parameters": {},
   "start_time": "2025-01-01T05:31:27.814735",
   "version": "2.6.0"
  }
 },
 "nbformat": 4,
 "nbformat_minor": 5
}
